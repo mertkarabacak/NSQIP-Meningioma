{
 "cells": [
  {
   "cell_type": "code",
   "execution_count": null,
   "id": "NUoUw1WrLesI",
   "metadata": {
    "colab": {
     "base_uri": "https://localhost:8080/"
    },
    "executionInfo": {
     "elapsed": 843,
     "status": "ok",
     "timestamp": 1688839024185,
     "user": {
      "displayName": "Mert Karabacak",
      "userId": "14308977132914475412"
     },
     "user_tz": 240
    },
    "id": "NUoUw1WrLesI",
    "outputId": "bdad267a-5142-4af5-8bbf-619d5d7ad7d3"
   },
   "outputs": [],
   "source": [
    "from google.colab import drive\n",
    "drive.mount('/content/drive')"
   ]
  },
  {
   "cell_type": "code",
   "execution_count": null,
   "id": "b7069c46-b444-4100-b7d9-c884c759b493",
   "metadata": {
    "executionInfo": {
     "elapsed": 1042,
     "status": "ok",
     "timestamp": 1688839025215,
     "user": {
      "displayName": "Mert Karabacak",
      "userId": "14308977132914475412"
     },
     "user_tz": 240
    },
    "id": "b7069c46-b444-4100-b7d9-c884c759b493"
   },
   "outputs": [],
   "source": [
    "import pandas as pd"
   ]
  },
  {
   "cell_type": "code",
   "execution_count": null,
   "id": "PpF1-3B0uexB",
   "metadata": {
    "executionInfo": {
     "elapsed": 20,
     "status": "ok",
     "timestamp": 1688839025216,
     "user": {
      "displayName": "Mert Karabacak",
      "userId": "14308977132914475412"
     },
     "user_tz": 240
    },
    "id": "PpF1-3B0uexB"
   },
   "outputs": [],
   "source": [
    "cpt_codes = [61512, 61519]\n",
    "icd10_codes = ['D32.0']\n",
    "icd9_codes = ['225.2']"
   ]
  },
  {
   "cell_type": "code",
   "execution_count": null,
   "id": "83ebea8e-eaf9-4e4c-95b0-7b18bcac7215",
   "metadata": {
    "executionInfo": {
     "elapsed": 102482,
     "status": "ok",
     "timestamp": 1688839127685,
     "user": {
      "displayName": "Mert Karabacak",
      "userId": "14308977132914475412"
     },
     "user_tz": 240
    },
    "id": "83ebea8e-eaf9-4e4c-95b0-7b18bcac7215"
   },
   "outputs": [],
   "source": [
    "#Read 2020 data.\n",
    "\n",
    "df2020 = pd.read_csv(\"/content/drive/MyDrive/NSQIP-PUFs/NSQIP_2020.csv\", index_col = 'CaseID', encoding = 'latin1', low_memory = False)\n",
    "\n",
    "df2020.columns = map(str.upper, df2020.columns)"
   ]
  },
  {
   "cell_type": "code",
   "execution_count": null,
   "id": "g4pkaNnHu3LG",
   "metadata": {
    "colab": {
     "base_uri": "https://localhost:8080/"
    },
    "executionInfo": {
     "elapsed": 44,
     "status": "ok",
     "timestamp": 1688839127686,
     "user": {
      "displayName": "Mert Karabacak",
      "userId": "14308977132914475412"
     },
     "user_tz": 240
    },
    "id": "g4pkaNnHu3LG",
    "outputId": "5cbc9f97-a740-4c79-d4f9-1dcb2ddb5480"
   },
   "outputs": [],
   "source": [
    "print(list(df2020.columns))"
   ]
  },
  {
   "cell_type": "code",
   "execution_count": null,
   "id": "37b4e4d8-f7d9-4715-86e4-a52a158b4626",
   "metadata": {
    "colab": {
     "base_uri": "https://localhost:8080/"
    },
    "executionInfo": {
     "elapsed": 1292,
     "status": "ok",
     "timestamp": 1688839128959,
     "user": {
      "displayName": "Mert Karabacak",
      "userId": "14308977132914475412"
     },
     "user_tz": 240
    },
    "id": "37b4e4d8-f7d9-4715-86e4-a52a158b4626",
    "outputId": "2ba9c969-fa97-483f-c2f1-ffa4c0cd0ed3"
   },
   "outputs": [],
   "source": [
    "#Drop the columns that are not present in other years.\n",
    "\n",
    "df2020 = df2020.drop(columns=['EOL_WDCARE', 'BLEED_UNITS_TOT'])\n",
    "\n",
    "print(df2020.shape)"
   ]
  },
  {
   "cell_type": "code",
   "execution_count": null,
   "id": "085e47a0-deef-46ab-be43-3c70880b3cce",
   "metadata": {
    "colab": {
     "base_uri": "https://localhost:8080/"
    },
    "executionInfo": {
     "elapsed": 748,
     "status": "ok",
     "timestamp": 1688839129693,
     "user": {
      "displayName": "Mert Karabacak",
      "userId": "14308977132914475412"
     },
     "user_tz": 240
    },
    "id": "085e47a0-deef-46ab-be43-3c70880b3cce",
    "outputId": "065b120b-1701-45bd-f3ce-e1882d1156f9"
   },
   "outputs": [],
   "source": [
    "#Include patients for 2020.\n",
    "\n",
    "df2020 = df2020[df2020[['CPT']].isin(cpt_codes).any(axis=1)]\n",
    "df2020 = df2020[(df2020[['PODIAG']].isin(icd9_codes).any(axis=1)) | (df2020[['PODIAG10']].isin(icd10_codes).any(axis=1))]\n",
    "\n",
    "print(df2020.shape)"
   ]
  },
  {
   "cell_type": "code",
   "execution_count": null,
   "id": "a9542653-5403-410b-bf62-664e14f6462b",
   "metadata": {
    "colab": {
     "base_uri": "https://localhost:8080/"
    },
    "executionInfo": {
     "elapsed": 97273,
     "status": "ok",
     "timestamp": 1688839226952,
     "user": {
      "displayName": "Mert Karabacak",
      "userId": "14308977132914475412"
     },
     "user_tz": 240
    },
    "id": "a9542653-5403-410b-bf62-664e14f6462b",
    "outputId": "4120b584-b649-4de0-aadd-d92498d7511d"
   },
   "outputs": [],
   "source": [
    "#Read 2019 data.\n",
    "\n",
    "df2019 = pd.read_csv(\"/content/drive/MyDrive/NSQIP-PUFs/NSQIP_2019.csv\", index_col = 'CASEID', encoding = 'latin1', low_memory = False)\n",
    "\n",
    "df2019.columns = map(str.upper, df2019.columns)\n",
    "\n",
    "print(df2019.shape)"
   ]
  },
  {
   "cell_type": "code",
   "execution_count": null,
   "id": "c6fb2a92-7924-4965-8282-2fd54bcac03b",
   "metadata": {
    "colab": {
     "base_uri": "https://localhost:8080/"
    },
    "executionInfo": {
     "elapsed": 27,
     "status": "ok",
     "timestamp": 1688839226953,
     "user": {
      "displayName": "Mert Karabacak",
      "userId": "14308977132914475412"
     },
     "user_tz": 240
    },
    "id": "c6fb2a92-7924-4965-8282-2fd54bcac03b",
    "outputId": "dc0b6e3f-4a01-486f-b500-20d4daab61e1"
   },
   "outputs": [],
   "source": [
    "#Include patients for 2019.\n",
    "\n",
    "df2019 = df2019[df2019[['CPT']].isin(cpt_codes).any(axis=1)]\n",
    "df2019 = df2019[(df2019[['PODIAG']].isin(icd9_codes).any(axis=1)) | (df2019[['PODIAG10']].isin(icd10_codes).any(axis=1))]\n",
    "\n",
    "print(df2019.shape)"
   ]
  },
  {
   "cell_type": "code",
   "execution_count": null,
   "id": "cb772fcf-d268-4221-93a0-5eb5c265c935",
   "metadata": {
    "colab": {
     "base_uri": "https://localhost:8080/"
    },
    "executionInfo": {
     "elapsed": 97174,
     "status": "ok",
     "timestamp": 1688839324116,
     "user": {
      "displayName": "Mert Karabacak",
      "userId": "14308977132914475412"
     },
     "user_tz": 240
    },
    "id": "cb772fcf-d268-4221-93a0-5eb5c265c935",
    "outputId": "b3ca6300-d766-4e18-d383-bde882311dc8"
   },
   "outputs": [],
   "source": [
    "#Read 2018 data.\n",
    "\n",
    "df2018 = pd.read_csv(\"/content/drive/MyDrive/NSQIP-PUFs/NSQIP_2018.csv\", index_col = 'CaseID', encoding = 'latin1', low_memory = False)\n",
    "\n",
    "df2018.columns = map(str.upper, df2018.columns)\n",
    "\n",
    "print(df2018.shape)"
   ]
  },
  {
   "cell_type": "code",
   "execution_count": null,
   "id": "e8bc3025-d320-46fb-8a4b-e2ba478dbb30",
   "metadata": {
    "colab": {
     "base_uri": "https://localhost:8080/"
    },
    "executionInfo": {
     "elapsed": 30,
     "status": "ok",
     "timestamp": 1688839324117,
     "user": {
      "displayName": "Mert Karabacak",
      "userId": "14308977132914475412"
     },
     "user_tz": 240
    },
    "id": "e8bc3025-d320-46fb-8a4b-e2ba478dbb30",
    "outputId": "3d4db1fe-a854-4165-b3dc-3a6fbb651e2c"
   },
   "outputs": [],
   "source": [
    "#Include patients for 2018.\n",
    "\n",
    "df2018 = df2018[df2018[['CPT']].isin(cpt_codes).any(axis=1)]\n",
    "df2018 = df2018[(df2018[['PODIAG']].isin(icd9_codes).any(axis=1)) | (df2018[['PODIAG10']].isin(icd10_codes).any(axis=1))]\n",
    "\n",
    "print(df2018.shape)"
   ]
  },
  {
   "cell_type": "code",
   "execution_count": null,
   "id": "5170bbc1-b5d3-4c09-9657-d25b0ac0ecba",
   "metadata": {
    "colab": {
     "base_uri": "https://localhost:8080/"
    },
    "executionInfo": {
     "elapsed": 98636,
     "status": "ok",
     "timestamp": 1688839422741,
     "user": {
      "displayName": "Mert Karabacak",
      "userId": "14308977132914475412"
     },
     "user_tz": 240
    },
    "id": "5170bbc1-b5d3-4c09-9657-d25b0ac0ecba",
    "outputId": "61f19230-7de9-4c93-f98b-a1c4eef2cdaf"
   },
   "outputs": [],
   "source": [
    "#Read 2017 data.\n",
    "\n",
    "df2017 = pd.read_csv(\"/content/drive/MyDrive/NSQIP-PUFs/NSQIP_2017.csv\", index_col = 'CaseID', encoding = 'latin1', low_memory = False)\n",
    "\n",
    "df2017.columns = map(str.upper, df2017.columns)\n",
    "\n",
    "print(df2017.shape)"
   ]
  },
  {
   "cell_type": "code",
   "execution_count": null,
   "id": "37d5f575-43ab-4f3e-929a-70e0e0a75419",
   "metadata": {
    "colab": {
     "base_uri": "https://localhost:8080/"
    },
    "executionInfo": {
     "elapsed": 452,
     "status": "ok",
     "timestamp": 1688839423162,
     "user": {
      "displayName": "Mert Karabacak",
      "userId": "14308977132914475412"
     },
     "user_tz": 240
    },
    "id": "37d5f575-43ab-4f3e-929a-70e0e0a75419",
    "outputId": "fe51a411-898a-4d3a-db13-97026a9c1d55"
   },
   "outputs": [],
   "source": [
    "#Include patients for 2017.\n",
    "\n",
    "df2017 = df2017[df2017[['CPT']].isin(cpt_codes).any(axis=1)]\n",
    "df2017 = df2017[(df2017[['PODIAG']].isin(icd9_codes).any(axis=1)) | (df2017[['PODIAG10']].isin(icd10_codes).any(axis=1))]\n",
    "\n",
    "print(df2017.shape)"
   ]
  },
  {
   "cell_type": "code",
   "execution_count": null,
   "id": "24ac9edb-b63f-4dae-a208-26ecf6c94b11",
   "metadata": {
    "colab": {
     "base_uri": "https://localhost:8080/"
    },
    "executionInfo": {
     "elapsed": 100722,
     "status": "ok",
     "timestamp": 1688839523870,
     "user": {
      "displayName": "Mert Karabacak",
      "userId": "14308977132914475412"
     },
     "user_tz": 240
    },
    "id": "24ac9edb-b63f-4dae-a208-26ecf6c94b11",
    "outputId": "7a8242de-7a97-4563-b962-563d1924604f"
   },
   "outputs": [],
   "source": [
    "#Read 2016 data.\n",
    "\n",
    "df2016 = pd.read_csv(\"/content/drive/MyDrive/NSQIP-PUFs/NSQIP_2016.csv\", index_col = 'CaseID', encoding = 'latin1', low_memory = False)\n",
    "\n",
    "df2016.columns = map(str.upper, df2016.columns)\n",
    "\n",
    "print(df2016.shape)"
   ]
  },
  {
   "cell_type": "code",
   "execution_count": null,
   "id": "dd9866b0-c2dc-4da0-b9a6-f738f20b4e7b",
   "metadata": {
    "colab": {
     "base_uri": "https://localhost:8080/"
    },
    "executionInfo": {
     "elapsed": 26,
     "status": "ok",
     "timestamp": 1688839523871,
     "user": {
      "displayName": "Mert Karabacak",
      "userId": "14308977132914475412"
     },
     "user_tz": 240
    },
    "id": "dd9866b0-c2dc-4da0-b9a6-f738f20b4e7b",
    "outputId": "d983f22e-2d80-4a43-e141-94b1cd053752"
   },
   "outputs": [],
   "source": [
    "#Include patients for 2016.\n",
    "\n",
    "df2016 = df2016[df2016[['CPT']].isin(cpt_codes).any(axis=1)]\n",
    "df2016 = df2016[(df2016[['PODIAG']].isin(icd9_codes).any(axis=1)) | (df2016[['PODIAG10']].isin(icd10_codes).any(axis=1))]\n",
    "\n",
    "print(df2016.shape)"
   ]
  },
  {
   "cell_type": "code",
   "execution_count": null,
   "id": "mgCOjHV_8S7a",
   "metadata": {
    "colab": {
     "base_uri": "https://localhost:8080/"
    },
    "executionInfo": {
     "elapsed": 94544,
     "status": "ok",
     "timestamp": 1688839618403,
     "user": {
      "displayName": "Mert Karabacak",
      "userId": "14308977132914475412"
     },
     "user_tz": 240
    },
    "id": "mgCOjHV_8S7a",
    "outputId": "0b0cbf86-8f5c-4788-f82d-559b1090f20f"
   },
   "outputs": [],
   "source": [
    "#Read 2015 data.\n",
    "\n",
    "df2015 = pd.read_csv(\"/content/drive/MyDrive/NSQIP-PUFs/NSQIP_2015.csv\", index_col = 'CaseID', encoding = 'latin1', low_memory = False)\n",
    "\n",
    "df2015.columns = map(str.upper, df2015.columns)\n",
    "\n",
    "print(df2015.shape)"
   ]
  },
  {
   "cell_type": "code",
   "execution_count": null,
   "id": "YuquRCzy8S7e",
   "metadata": {
    "colab": {
     "base_uri": "https://localhost:8080/"
    },
    "executionInfo": {
     "elapsed": 429,
     "status": "ok",
     "timestamp": 1688839618811,
     "user": {
      "displayName": "Mert Karabacak",
      "userId": "14308977132914475412"
     },
     "user_tz": 240
    },
    "id": "YuquRCzy8S7e",
    "outputId": "0406e3cd-eab5-4c0e-eaa8-39d980aa123e"
   },
   "outputs": [],
   "source": [
    "#Include patients for 2015.\n",
    "\n",
    "df2015 = df2015[df2015[['CPT']].isin(cpt_codes).any(axis=1)]\n",
    "df2015 = df2015[(df2015[['PODIAG']].isin(icd9_codes).any(axis=1)) | (df2015[['PODIAG10']].isin(icd10_codes).any(axis=1))]\n",
    "\n",
    "print(df2015.shape)"
   ]
  },
  {
   "cell_type": "code",
   "execution_count": null,
   "id": "J7J6PVzd8UHB",
   "metadata": {
    "colab": {
     "base_uri": "https://localhost:8080/"
    },
    "executionInfo": {
     "elapsed": 92937,
     "status": "ok",
     "timestamp": 1688839711737,
     "user": {
      "displayName": "Mert Karabacak",
      "userId": "14308977132914475412"
     },
     "user_tz": 240
    },
    "id": "J7J6PVzd8UHB",
    "outputId": "9a49d5d8-644b-48b2-fa37-f383ee2b3eb3"
   },
   "outputs": [],
   "source": [
    "#Read 2014 data.\n",
    "\n",
    "df2014 = pd.read_csv(\"/content/drive/MyDrive/NSQIP-PUFs/NSQIP_2014.csv\", index_col = 'CaseID', encoding = 'latin1', low_memory = False)\n",
    "\n",
    "df2014.columns = map(str.upper, df2014.columns)\n",
    "\n",
    "print(df2014.shape)"
   ]
  },
  {
   "cell_type": "code",
   "execution_count": null,
   "id": "acsT6AO08UHC",
   "metadata": {
    "colab": {
     "base_uri": "https://localhost:8080/"
    },
    "executionInfo": {
     "elapsed": 422,
     "status": "ok",
     "timestamp": 1688839712127,
     "user": {
      "displayName": "Mert Karabacak",
      "userId": "14308977132914475412"
     },
     "user_tz": 240
    },
    "id": "acsT6AO08UHC",
    "outputId": "e5d2ff19-b78d-48ac-9534-621b621c5a32"
   },
   "outputs": [],
   "source": [
    "#Include patients for 2014.\n",
    "\n",
    "df2014 = df2014[df2014[['CPT']].isin(cpt_codes).any(axis=1)]\n",
    "df2014 = df2014[(df2014[['PODIAG']].isin(icd9_codes).any(axis=1)) | (df2014[['PODIAG10']].isin(icd10_codes).any(axis=1))]\n",
    "\n",
    "print(df2014.shape)"
   ]
  },
  {
   "cell_type": "code",
   "execution_count": null,
   "id": "1b7d99af-1e65-4876-af89-7255c85e4160",
   "metadata": {
    "colab": {
     "base_uri": "https://localhost:8080/"
    },
    "executionInfo": {
     "elapsed": 19,
     "status": "ok",
     "timestamp": 1688839712128,
     "user": {
      "displayName": "Mert Karabacak",
      "userId": "14308977132914475412"
     },
     "user_tz": 240
    },
    "id": "1b7d99af-1e65-4876-af89-7255c85e4160",
    "outputId": "057e4d96-664e-4687-d4e2-581d83e48448"
   },
   "outputs": [],
   "source": [
    "#Combine data.\n",
    "\n",
    "dfs = [df2014, df2015, df2016, df2017, df2018, df2019, df2020]\n",
    "\n",
    "combined = pd.concat(dfs)\n",
    "\n",
    "print(combined.shape)"
   ]
  },
  {
   "cell_type": "code",
   "execution_count": null,
   "id": "cd269ba3-7d20-402e-96f1-c4394e1fef3b",
   "metadata": {
    "executionInfo": {
     "elapsed": 1430,
     "status": "ok",
     "timestamp": 1688839713543,
     "user": {
      "displayName": "Mert Karabacak",
      "userId": "14308977132914475412"
     },
     "user_tz": 240
    },
    "id": "cd269ba3-7d20-402e-96f1-c4394e1fef3b"
   },
   "outputs": [],
   "source": [
    "#Save combined data.\n",
    "\n",
    "combined.to_csv('/content/drive/MyDrive/NSQIP-Meningioma/data_combined.csv')"
   ]
  }
 ],
 "metadata": {
  "colab": {
   "machine_shape": "hm",
   "provenance": [
    {
     "file_id": "14WTMRdOsP1e6EP3YK7nUvyBYZniY7kVa",
     "timestamp": 1680798841071
    },
    {
     "file_id": "17aj-Lz8TX0s0hiZMy83U6YI3DzFLD0ZW",
     "timestamp": 1671639955853
    },
    {
     "file_id": "1DvHyPwQy7mpRwrN_rOzO-09A7CAMA0Uj",
     "timestamp": 1671032654360
    },
    {
     "file_id": "1oaw3j90w4kJTo-_wUmEj4_VwvTsD9O3r",
     "timestamp": 1670594756777
    },
    {
     "file_id": "13trwfUGkE1kSKt7ow-iCHeetffobv2nJ",
     "timestamp": 1669681277061
    },
    {
     "file_id": "https://github.com/mertkarabacak/NSQIP-ACDF/blob/main/concatenate.ipynb",
     "timestamp": 1669235177814
    }
   ]
  },
  "environment": {
   "kernel": "python3",
   "name": "common-cpu.m100",
   "type": "gcloud",
   "uri": "gcr.io/deeplearning-platform-release/base-cpu:m100"
  },
  "gpuClass": "standard",
  "kernelspec": {
   "display_name": "Python 3 (ipykernel)",
   "language": "python",
   "name": "python3"
  },
  "language_info": {
   "codemirror_mode": {
    "name": "ipython",
    "version": 3
   },
   "file_extension": ".py",
   "mimetype": "text/x-python",
   "name": "python",
   "nbconvert_exporter": "python",
   "pygments_lexer": "ipython3",
   "version": "3.9.6"
  }
 },
 "nbformat": 4,
 "nbformat_minor": 5
}
