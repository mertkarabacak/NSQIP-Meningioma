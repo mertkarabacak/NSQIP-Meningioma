{
 "cells": [
  {
   "cell_type": "code",
   "execution_count": null,
   "id": "4AZmJ6jfWEN4",
   "metadata": {
    "colab": {
     "base_uri": "https://localhost:8080/"
    },
    "executionInfo": {
     "elapsed": 25410,
     "status": "ok",
     "timestamp": 1688935822922,
     "user": {
      "displayName": "Mert Karabacak",
      "userId": "14308977132914475412"
     },
     "user_tz": 240
    },
    "id": "4AZmJ6jfWEN4",
    "outputId": "be71fe73-28ff-45fc-c63d-afb7b0fa7e2f"
   },
   "outputs": [],
   "source": [
    "from google.colab import drive\n",
    "drive.mount('/content/drive')"
   ]
  },
  {
   "cell_type": "code",
   "execution_count": null,
   "id": "45bff18b",
   "metadata": {
    "executionInfo": {
     "elapsed": 1789,
     "status": "ok",
     "timestamp": 1688935824693,
     "user": {
      "displayName": "Mert Karabacak",
      "userId": "14308977132914475412"
     },
     "user_tz": 240
    },
    "id": "45bff18b"
   },
   "outputs": [],
   "source": [
    "import numpy as np\n",
    "import pandas as pd\n",
    "from sklearn.impute import KNNImputer\n",
    "from sklearn.preprocessing import MinMaxScaler\n",
    "\n",
    "pd.set_option('display.max_rows', None)"
   ]
  },
  {
   "cell_type": "code",
   "execution_count": null,
   "id": "721c822b",
   "metadata": {
    "colab": {
     "base_uri": "https://localhost:8080/"
    },
    "executionInfo": {
     "elapsed": 1004,
     "status": "ok",
     "timestamp": 1688935825692,
     "user": {
      "displayName": "Mert Karabacak",
      "userId": "14308977132914475412"
     },
     "user_tz": 240
    },
    "id": "721c822b",
    "outputId": "2b645727-36fb-4fbf-e68c-01329a02c1bf"
   },
   "outputs": [],
   "source": [
    "#Open csv file.\n",
    "\n",
    "data = pd.read_csv(\"/content/drive/MyDrive/NSQIP-Meningioma/data_combined.csv\", index_col=0, na_values = -99)"
   ]
  },
  {
   "cell_type": "code",
   "execution_count": null,
   "id": "2ddf793b",
   "metadata": {
    "colab": {
     "base_uri": "https://localhost:8080/"
    },
    "executionInfo": {
     "elapsed": 24,
     "status": "ok",
     "timestamp": 1688935825692,
     "user": {
      "displayName": "Mert Karabacak",
      "userId": "14308977132914475412"
     },
     "user_tz": 240
    },
    "id": "2ddf793b",
    "outputId": "6523e27e-8633-4ab0-b16c-7a7f38702547"
   },
   "outputs": [],
   "source": [
    "#See all columns.\n",
    "\n",
    "print(list(data.columns))"
   ]
  },
  {
   "cell_type": "code",
   "execution_count": null,
   "id": "6b72f120",
   "metadata": {
    "colab": {
     "base_uri": "https://localhost:8080/"
    },
    "executionInfo": {
     "elapsed": 19,
     "status": "ok",
     "timestamp": 1688935825692,
     "user": {
      "displayName": "Mert Karabacak",
      "userId": "14308977132914475412"
     },
     "user_tz": 240
    },
    "id": "6b72f120",
    "outputId": "aadf0af7-1807-4e99-e94f-1dc5bb5dc331"
   },
   "outputs": [],
   "source": [
    "#Check data shape.\n",
    "\n",
    "data.shape"
   ]
  },
  {
   "cell_type": "code",
   "execution_count": null,
   "id": "a143c94a",
   "metadata": {
    "executionInfo": {
     "elapsed": 15,
     "status": "ok",
     "timestamp": 1688935825693,
     "user": {
      "displayName": "Mert Karabacak",
      "userId": "14308977132914475412"
     },
     "user_tz": 240
    },
    "id": "a143c94a"
   },
   "outputs": [],
   "source": [
    "#Define variables of interest (predictor variables, inclusion/exclusion criteria, outcomes of interest).\n",
    "\n",
    "variables = ['SEX', 'RACE_NEW', 'ETHNICITY_HISPANIC', 'CPT', 'STILLINHOSP', 'TRANST', 'AGE', 'ANESTHES', 'SURGSPEC', 'ELECTSURG', 'HEIGHT', 'WEIGHT', 'DIABETES', 'SMOKE', 'DYSPNEA', 'FNSTATUS2', 'VENTILAT', 'HXCOPD', 'ASCITES', 'HXCHF', 'HYPERMED', 'RENAFAIL', 'DIALYSIS', 'DISCANCR', 'WNDINF', 'STEROID', 'WTLOSS', 'BLEEDDIS', 'TRANSFUS', 'PRSEPIS', 'PRSODM', 'PRBUN', 'PRCREAT', 'PRALBUM', 'PRBILI', 'PRSGOT', 'PRALKPH', 'PRWBC', 'PRHCT', 'PRPLATE', 'PRPTT', 'PRINR', 'PRPT', 'EMERGNCY', 'WNDCLAS', 'ASACLAS', 'PODIAG', 'PODIAG10', 'READMISSION1', 'REOPERATION1', 'DISCHDEST', 'TOTHLOS', 'NWNDINFD', 'NORGSPCSSI', 'NDEHIS', 'NREINTUB', 'NPULEMBOL', 'NFAILWEAN', 'NRENAINSF', 'NOPRENAFL', 'NCNSCVA', 'NCDARREST', 'NCDMI', 'NOTHBLEED', 'NOTHDVT', 'NOTHSYSEP', 'NOTHSESHOCK']"
   ]
  },
  {
   "cell_type": "code",
   "execution_count": null,
   "id": "a21a408c",
   "metadata": {
    "colab": {
     "base_uri": "https://localhost:8080/"
    },
    "executionInfo": {
     "elapsed": 14,
     "status": "ok",
     "timestamp": 1688935825693,
     "user": {
      "displayName": "Mert Karabacak",
      "userId": "14308977132914475412"
     },
     "user_tz": 240
    },
    "id": "a21a408c",
    "outputId": "0598b8ab-3de2-4a80-e9a1-52fc908ba386"
   },
   "outputs": [],
   "source": [
    "#Remove unwanted columns and check data shape.\n",
    "\n",
    "data = data[variables]\n",
    "\n",
    "data.shape"
   ]
  },
  {
   "cell_type": "markdown",
   "id": "vhnvaPrYLUL3",
   "metadata": {
    "id": "vhnvaPrYLUL3"
   },
   "source": [
    "# Inclusion Criteria"
   ]
  },
  {
   "cell_type": "code",
   "execution_count": null,
   "id": "JUc0a2YuLYzx",
   "metadata": {
    "colab": {
     "base_uri": "https://localhost:8080/"
    },
    "executionInfo": {
     "elapsed": 12,
     "status": "ok",
     "timestamp": 1688935825693,
     "user": {
      "displayName": "Mert Karabacak",
      "userId": "14308977132914475412"
     },
     "user_tz": 240
    },
    "id": "JUc0a2YuLYzx",
    "outputId": "cea084c4-1dec-4c50-cb0d-180a607334b3"
   },
   "outputs": [],
   "source": [
    "#Apply inclusion criteria for general anesthesia.\n",
    "\n",
    "before = data.shape[0]\n",
    "data = data[(data['ANESTHES'] == 'General')]\n",
    "after = data.shape[0]\n",
    "excluded = before - after\n",
    "\n",
    "print('Number of patients before exclusion: ', before)\n",
    "print('Number of patients after exclusion: ', after)\n",
    "print('Number of patients excluded with this criteria: ', excluded)"
   ]
  },
  {
   "cell_type": "code",
   "execution_count": null,
   "id": "BnohfYt3LbL0",
   "metadata": {
    "colab": {
     "base_uri": "https://localhost:8080/"
    },
    "executionInfo": {
     "elapsed": 10,
     "status": "ok",
     "timestamp": 1688935825693,
     "user": {
      "displayName": "Mert Karabacak",
      "userId": "14308977132914475412"
     },
     "user_tz": 240
    },
    "id": "BnohfYt3LbL0",
    "outputId": "a4d38a97-f283-4c11-a666-b4150387afde"
   },
   "outputs": [],
   "source": [
    "#Apply inclusion criteria for surgical specialties.\n",
    "\n",
    "before = data.shape[0]\n",
    "data = data[(data['SURGSPEC'] == 'Neurosurgery')]\n",
    "after = data.shape[0]\n",
    "excluded = before - after\n",
    "\n",
    "print('Number of patients before exclusion: ', before)\n",
    "print('Number of patients after exclusion: ', after)\n",
    "print('Number of patients excluded with this criteria: ', excluded)"
   ]
  },
  {
   "cell_type": "markdown",
   "id": "cMoxIKULpbsk",
   "metadata": {
    "id": "cMoxIKULpbsk"
   },
   "source": [
    "#Exclusion Criteria"
   ]
  },
  {
   "cell_type": "code",
   "execution_count": null,
   "id": "81efedf4",
   "metadata": {
    "colab": {
     "base_uri": "https://localhost:8080/"
    },
    "executionInfo": {
     "elapsed": 205,
     "status": "ok",
     "timestamp": 1688935825891,
     "user": {
      "displayName": "Mert Karabacak",
      "userId": "14308977132914475412"
     },
     "user_tz": 240
    },
    "id": "81efedf4",
    "outputId": "82e4485e-0d11-4894-a7be-fb97a5c8d91f"
   },
   "outputs": [],
   "source": [
    "#Apply exclusion criteria for emergency surgery.\n",
    "\n",
    "before = data.shape[0]\n",
    "data = data[(data['EMERGNCY'] == 'No')]\n",
    "after = data.shape[0]\n",
    "excluded = before - after\n",
    "\n",
    "print('Number of patients before exclusion: ', before)\n",
    "print('Number of patients after exclusion: ', after)\n",
    "print('Number of patients excluded with this criteria: ', excluded)"
   ]
  },
  {
   "cell_type": "code",
   "execution_count": null,
   "id": "056878f5",
   "metadata": {
    "colab": {
     "base_uri": "https://localhost:8080/"
    },
    "executionInfo": {
     "elapsed": 21,
     "status": "ok",
     "timestamp": 1688935825891,
     "user": {
      "displayName": "Mert Karabacak",
      "userId": "14308977132914475412"
     },
     "user_tz": 240
    },
    "id": "056878f5",
    "outputId": "7d1be963-b6e1-46cf-a9c2-fe240cfa5224"
   },
   "outputs": [],
   "source": [
    "#Apply exclusion criteria for wound class.\n",
    "\n",
    "before = data.shape[0]\n",
    "data = data[(data['WNDCLAS'] == '1-Clean')]\n",
    "after = data.shape[0]\n",
    "excluded = before - after\n",
    "\n",
    "print('Number of patients before exclusion: ', before)\n",
    "print('Number of patients after exclusion: ', after)\n",
    "print('Number of patients excluded with this criteria: ', excluded)"
   ]
  },
  {
   "cell_type": "code",
   "execution_count": null,
   "id": "120235be",
   "metadata": {
    "colab": {
     "base_uri": "https://localhost:8080/"
    },
    "executionInfo": {
     "elapsed": 20,
     "status": "ok",
     "timestamp": 1688935825891,
     "user": {
      "displayName": "Mert Karabacak",
      "userId": "14308977132914475412"
     },
     "user_tz": 240
    },
    "id": "120235be",
    "outputId": "12c9b42e-9db5-40a8-8fc7-75816b247b93"
   },
   "outputs": [],
   "source": [
    "#Apply exclusion criteria for preoperative sepsis.\n",
    "\n",
    "before = data.shape[0]\n",
    "data = data[(data['PRSEPIS'] == 'None')]\n",
    "after = data.shape[0]\n",
    "excluded = before - after\n",
    "\n",
    "print('Number of patients before exclusion: ', before)\n",
    "print('Number of patients after exclusion: ', after)\n",
    "print('Number of patients excluded with this criteria: ', excluded)"
   ]
  },
  {
   "cell_type": "code",
   "execution_count": null,
   "id": "HiH5AVM5BwF5",
   "metadata": {
    "colab": {
     "base_uri": "https://localhost:8080/"
    },
    "executionInfo": {
     "elapsed": 18,
     "status": "ok",
     "timestamp": 1688935825891,
     "user": {
      "displayName": "Mert Karabacak",
      "userId": "14308977132914475412"
     },
     "user_tz": 240
    },
    "id": "HiH5AVM5BwF5",
    "outputId": "7ff81a41-f0e7-442a-e5f9-1509161d418e"
   },
   "outputs": [],
   "source": [
    "#Apply exclusion criteria for patients still in hospital after 30 days.\n",
    "\n",
    "before = data.shape[0]\n",
    "data = data[(data['STILLINHOSP'] == 'No')]\n",
    "after = data.shape[0]\n",
    "excluded = before - after\n",
    "\n",
    "print('Number of patients before exclusion: ', before)\n",
    "print('Number of patients after exclusion: ', after)\n",
    "print('Number of patients excluded with this criteria: ', excluded)"
   ]
  },
  {
   "cell_type": "markdown",
   "id": "ll1i2QejpgCR",
   "metadata": {
    "id": "ll1i2QejpgCR"
   },
   "source": [
    "#Renaming and Merging Response Values\n"
   ]
  },
  {
   "cell_type": "code",
   "execution_count": null,
   "id": "9fb66caf",
   "metadata": {
    "executionInfo": {
     "elapsed": 16,
     "status": "ok",
     "timestamp": 1688935825891,
     "user": {
      "displayName": "Mert Karabacak",
      "userId": "14308977132914475412"
     },
     "user_tz": 240
    },
    "id": "9fb66caf"
   },
   "outputs": [],
   "source": [
    "#Convert 90+ to 91 and 'AGE' column to integer.\n",
    "\n",
    "data.loc[data['AGE'] == '90+', 'AGE'] = 91\n",
    "data['AGE'] = pd.to_numeric(data['AGE'], downcast='integer')"
   ]
  },
  {
   "cell_type": "code",
   "execution_count": null,
   "id": "IA1EPJAQL7Wm",
   "metadata": {
    "executionInfo": {
     "elapsed": 15,
     "status": "ok",
     "timestamp": 1688935825891,
     "user": {
      "displayName": "Mert Karabacak",
      "userId": "14308977132914475412"
     },
     "user_tz": 240
    },
    "id": "IA1EPJAQL7Wm"
   },
   "outputs": [],
   "source": [
    "#Capitalize response values for 'SEX'.\n",
    "\n",
    "data.loc[data['SEX'] == 'male', 'SEX'] = 'Male'\n",
    "data.loc[data['SEX'] == 'female', 'SEX'] = 'Female'\n",
    "data.loc[data['SEX'] == 'non-binary', 'SEX'] = 'Non-binary'"
   ]
  },
  {
   "cell_type": "code",
   "execution_count": null,
   "id": "FeiKTUuDL-JB",
   "metadata": {
    "colab": {
     "base_uri": "https://localhost:8080/"
    },
    "executionInfo": {
     "elapsed": 15,
     "status": "ok",
     "timestamp": 1688935825891,
     "user": {
      "displayName": "Mert Karabacak",
      "userId": "14308977132914475412"
     },
     "user_tz": 240
    },
    "id": "FeiKTUuDL-JB",
    "outputId": "71c6beef-b165-4a05-e259-d2491cafd742"
   },
   "outputs": [],
   "source": [
    "#Check data for race.\n",
    "\n",
    "data['RACE_NEW'].value_counts(normalize=False, dropna=False)"
   ]
  },
  {
   "cell_type": "code",
   "execution_count": null,
   "id": "cKKskf0iL_XB",
   "metadata": {
    "colab": {
     "base_uri": "https://localhost:8080/"
    },
    "executionInfo": {
     "elapsed": 13,
     "status": "ok",
     "timestamp": 1688935825891,
     "user": {
      "displayName": "Mert Karabacak",
      "userId": "14308977132914475412"
     },
     "user_tz": 240
    },
    "id": "cKKskf0iL_XB",
    "outputId": "d20c2caf-31b8-4f9d-e2eb-af33844a126f"
   },
   "outputs": [],
   "source": [
    "#Simplify 'RACE_NEW' column.\n",
    "\n",
    "data.loc[data['RACE_NEW'] == 'Unknown/Not Reported', 'RACE_NEW'] = 'Other/Unknown'\n",
    "data.loc[data['RACE_NEW'] == 'Some Other Race', 'RACE_NEW'] = 'Other/Unknown'\n",
    "data.loc[data['RACE_NEW'] == 'Native Hawaiian or Pacific Islander', 'RACE_NEW'] = 'Other/Unknown'\n",
    "data.loc[data['RACE_NEW'] == 'Native Hawaiian or Other Pacific Islander', 'RACE_NEW'] = 'Other/Unknown'\n",
    "data.loc[data['RACE_NEW'] == 'American Indian or Alaska Native', 'RACE_NEW'] = 'Other/Unknown'\n",
    "\n",
    "data['RACE_NEW'].value_counts(normalize=False, dropna=False)"
   ]
  },
  {
   "cell_type": "code",
   "execution_count": null,
   "id": "ab9d9c55",
   "metadata": {
    "executionInfo": {
     "elapsed": 11,
     "status": "ok",
     "timestamp": 1688935825891,
     "user": {
      "displayName": "Mert Karabacak",
      "userId": "14308977132914475412"
     },
     "user_tz": 240
    },
    "id": "ab9d9c55"
   },
   "outputs": [],
   "source": [
    "#Convert pounds to kilograms for weight and inches to meters for height.\n",
    "\n",
    "lbs_to_kg_ratio = 0.453592\n",
    "inch_to_meter_ratio = 0.0254\n",
    "\n",
    "data['HEIGHT'] *= inch_to_meter_ratio\n",
    "data['WEIGHT'] *= lbs_to_kg_ratio"
   ]
  },
  {
   "cell_type": "code",
   "execution_count": null,
   "id": "fbf1c8ec",
   "metadata": {
    "colab": {
     "base_uri": "https://localhost:8080/"
    },
    "executionInfo": {
     "elapsed": 12,
     "status": "ok",
     "timestamp": 1688935825892,
     "user": {
      "displayName": "Mert Karabacak",
      "userId": "14308977132914475412"
     },
     "user_tz": 240
    },
    "id": "fbf1c8ec",
    "outputId": "5f9d8710-45c3-4612-da3d-24a8e969fbb5"
   },
   "outputs": [],
   "source": [
    "#Check data for transfer status.\n",
    "\n",
    "data['TRANST'].value_counts(normalize=False, dropna=False)"
   ]
  },
  {
   "cell_type": "code",
   "execution_count": null,
   "id": "G6HAriLyoGgP",
   "metadata": {
    "colab": {
     "base_uri": "https://localhost:8080/"
    },
    "executionInfo": {
     "elapsed": 10,
     "status": "ok",
     "timestamp": 1688935825892,
     "user": {
      "displayName": "Mert Karabacak",
      "userId": "14308977132914475412"
     },
     "user_tz": 240
    },
    "id": "G6HAriLyoGgP",
    "outputId": "5f495fe3-9800-4cb3-ab35-6dea0d440862"
   },
   "outputs": [],
   "source": [
    "#Simplify 'TRANST' column.\n",
    "\n",
    "data.loc[data['TRANST'] == 'Not transferred (admitted from home)', 'TRANST'] = 'Not transferred'\n",
    "data.loc[data['TRANST'] == 'From acute care hospital inpatient', 'TRANST'] = 'Transferred'\n",
    "data.loc[data['TRANST'] == 'Outside emergency department', 'TRANST'] = 'Transferred'\n",
    "data.loc[data['TRANST'] == 'Nursing home - Chronic care - Intermediate care', 'TRANST'] = 'Transferred'\n",
    "data.loc[data['TRANST'] == 'Transfer from other', 'TRANST'] = 'Transferred'\n",
    "\n",
    "data['TRANST'].value_counts(normalize=False, dropna=False)"
   ]
  },
  {
   "cell_type": "code",
   "execution_count": null,
   "id": "058b3c3d",
   "metadata": {
    "colab": {
     "base_uri": "https://localhost:8080/"
    },
    "executionInfo": {
     "elapsed": 201,
     "status": "ok",
     "timestamp": 1688935826085,
     "user": {
      "displayName": "Mert Karabacak",
      "userId": "14308977132914475412"
     },
     "user_tz": 240
    },
    "id": "058b3c3d",
    "outputId": "013d4eb0-74fe-4e8c-8e2d-162c32d5e7a0"
   },
   "outputs": [],
   "source": [
    "#Check data for dyspnea.\n",
    "\n",
    "data['DYSPNEA'].value_counts(normalize=False, dropna=False)"
   ]
  },
  {
   "cell_type": "code",
   "execution_count": null,
   "id": "c3af9dc4",
   "metadata": {
    "colab": {
     "base_uri": "https://localhost:8080/"
    },
    "executionInfo": {
     "elapsed": 26,
     "status": "ok",
     "timestamp": 1688935826086,
     "user": {
      "displayName": "Mert Karabacak",
      "userId": "14308977132914475412"
     },
     "user_tz": 240
    },
    "id": "c3af9dc4",
    "outputId": "b3f931e7-81b6-442c-e749-b241f6684035"
   },
   "outputs": [],
   "source": [
    "#Simplify 'DYSPNEA' column.\n",
    "\n",
    "data.loc[data['DYSPNEA'] == 'No', 'DYSPNEA'] = 'No'\n",
    "data.loc[data['DYSPNEA'] == 'MODERATE EXERTION', 'DYSPNEA'] = 'Yes'\n",
    "data.loc[data['DYSPNEA'] == 'AT REST', 'DYSPNEA'] = 'Yes'\n",
    "\n",
    "data['DYSPNEA'].value_counts(normalize=False, dropna=False)"
   ]
  },
  {
   "cell_type": "code",
   "execution_count": null,
   "id": "ba88fac8",
   "metadata": {
    "colab": {
     "base_uri": "https://localhost:8080/"
    },
    "executionInfo": {
     "elapsed": 25,
     "status": "ok",
     "timestamp": 1688935826086,
     "user": {
      "displayName": "Mert Karabacak",
      "userId": "14308977132914475412"
     },
     "user_tz": 240
    },
    "id": "ba88fac8",
    "outputId": "ccc4d91c-63e6-4a7d-eb63-4815efd94da4"
   },
   "outputs": [],
   "source": [
    "#Check data for diabetes status.\n",
    "\n",
    "data['DIABETES'].value_counts(normalize=False, dropna=False)"
   ]
  },
  {
   "cell_type": "code",
   "execution_count": null,
   "id": "5557e3e3",
   "metadata": {
    "colab": {
     "base_uri": "https://localhost:8080/"
    },
    "executionInfo": {
     "elapsed": 21,
     "status": "ok",
     "timestamp": 1688935826086,
     "user": {
      "displayName": "Mert Karabacak",
      "userId": "14308977132914475412"
     },
     "user_tz": 240
    },
    "id": "5557e3e3",
    "outputId": "f64ce701-277a-4967-ef42-28849012c7b2"
   },
   "outputs": [],
   "source": [
    "#Simplify 'DIABETES' column.\n",
    "\n",
    "data.loc[data['DIABETES'] == 'NO', 'DIABETES'] = 'No'\n",
    "data.loc[data['DIABETES'] == 'NON-INSULIN', 'DIABETES'] = 'Yes (Insulin Dependent)'\n",
    "data.loc[data['DIABETES'] == 'INSULIN', 'DIABETES'] = 'Yes (Non-Insulin Dependent)'\n",
    "\n",
    "data['DIABETES'].value_counts(normalize=False, dropna=False)"
   ]
  },
  {
   "cell_type": "code",
   "execution_count": null,
   "id": "LULJqk2bwx-h",
   "metadata": {
    "colab": {
     "base_uri": "https://localhost:8080/"
    },
    "executionInfo": {
     "elapsed": 18,
     "status": "ok",
     "timestamp": 1688935826086,
     "user": {
      "displayName": "Mert Karabacak",
      "userId": "14308977132914475412"
     },
     "user_tz": 240
    },
    "id": "LULJqk2bwx-h",
    "outputId": "a399b66b-72c5-4fe9-8ca9-c92725e9791c"
   },
   "outputs": [],
   "source": [
    "#Identify operation types with the new column 'OPERATION'.\n",
    "\n",
    "operation_codes = {\n",
    "    61512: 'Supratentorial',\n",
    "    61519: 'Infratentorial'\n",
    "}\n",
    "\n",
    "columns = ['CPT']\n",
    "\n",
    "for code, description in operation_codes.items():\n",
    "    for column in columns:\n",
    "        data.loc[data[column] == code, 'Localization'] = description\n",
    "\n",
    "data['Localization'].value_counts(dropna=False)"
   ]
  },
  {
   "cell_type": "code",
   "execution_count": null,
   "id": "aa861235",
   "metadata": {
    "colab": {
     "base_uri": "https://localhost:8080/"
    },
    "executionInfo": {
     "elapsed": 16,
     "status": "ok",
     "timestamp": 1688935826086,
     "user": {
      "displayName": "Mert Karabacak",
      "userId": "14308977132914475412"
     },
     "user_tz": 240
    },
    "id": "aa861235",
    "outputId": "22d4ec2c-2f7f-4044-add6-d0bb598db6a4"
   },
   "outputs": [],
   "source": [
    "#See all columns.\n",
    "\n",
    "print(list(data.columns))"
   ]
  },
  {
   "cell_type": "code",
   "execution_count": null,
   "id": "55ead6a8",
   "metadata": {
    "executionInfo": {
     "elapsed": 13,
     "status": "ok",
     "timestamp": 1688935826086,
     "user": {
      "displayName": "Mert Karabacak",
      "userId": "14308977132914475412"
     },
     "user_tz": 240
    },
    "id": "55ead6a8"
   },
   "outputs": [],
   "source": [
    "#Drop unwanted columns.\n",
    "\n",
    "drop = ['STILLINHOSP', 'ANESTHES', 'SURGSPEC', 'EMERGNCY', 'WNDCLAS', 'ELECTSURG', 'PRSEPIS', 'PODIAG', 'PODIAG10', 'CPT']\n",
    "\n",
    "data.drop(drop, axis=1, inplace=True)"
   ]
  },
  {
   "cell_type": "code",
   "execution_count": null,
   "id": "vB0qNPUkMh2d",
   "metadata": {
    "colab": {
     "base_uri": "https://localhost:8080/"
    },
    "executionInfo": {
     "elapsed": 13,
     "status": "ok",
     "timestamp": 1688935826086,
     "user": {
      "displayName": "Mert Karabacak",
      "userId": "14308977132914475412"
     },
     "user_tz": 240
    },
    "id": "vB0qNPUkMh2d",
    "outputId": "8e201156-c0a7-4863-8af2-908a8edfd715"
   },
   "outputs": [],
   "source": [
    "#See all columns.\n",
    "\n",
    "print(list(data.columns))"
   ]
  },
  {
   "cell_type": "code",
   "execution_count": null,
   "id": "11efb52b",
   "metadata": {
    "colab": {
     "base_uri": "https://localhost:8080/"
    },
    "executionInfo": {
     "elapsed": 10,
     "status": "ok",
     "timestamp": 1688935826086,
     "user": {
      "displayName": "Mert Karabacak",
      "userId": "14308977132914475412"
     },
     "user_tz": 240
    },
    "id": "11efb52b",
    "outputId": "018f92ab-a906-4b93-9f40-a4a7eac89d6d"
   },
   "outputs": [],
   "source": [
    "#Define numerical and categorical columns.\n",
    "\n",
    "num_cols = list(data.select_dtypes('number').columns)\n",
    "print('Numerical columns: {}'.format(num_cols), '\\n')\n",
    "\n",
    "cat_cols = list(data.select_dtypes('object').columns)\n",
    "print('Categorical columns: {}'.format(cat_cols))"
   ]
  },
  {
   "cell_type": "code",
   "execution_count": null,
   "id": "282afb2e",
   "metadata": {
    "executionInfo": {
     "elapsed": 8,
     "status": "ok",
     "timestamp": 1688935826086,
     "user": {
      "displayName": "Mert Karabacak",
      "userId": "14308977132914475412"
     },
     "user_tz": 240
    },
    "id": "282afb2e"
   },
   "outputs": [],
   "source": [
    "#Remove outcomes.\n",
    "\n",
    "num_cols_remove = ['TOTHLOS', 'NWNDINFD', 'NORGSPCSSI', 'NDEHIS', 'NREINTUB', 'NPULEMBOL', 'NFAILWEAN', 'NRENAINSF', 'NOPRENAFL', 'NCNSCVA', 'NCDARREST', 'NCDMI', 'NOTHBLEED', 'NOTHDVT', 'NOTHSYSEP', 'NOTHSESHOCK']\n",
    "cat_cols_remove = ['READMISSION1', 'DISCHDEST', 'REOPERATION1']\n",
    "\n",
    "num_cols = [i for i in num_cols if i not in num_cols_remove]\n",
    "cat_cols = [i for i in cat_cols if i not in cat_cols_remove]"
   ]
  },
  {
   "cell_type": "code",
   "execution_count": null,
   "id": "f7a6bff0",
   "metadata": {
    "colab": {
     "base_uri": "https://localhost:8080/"
    },
    "executionInfo": {
     "elapsed": 8,
     "status": "ok",
     "timestamp": 1688935826086,
     "user": {
      "displayName": "Mert Karabacak",
      "userId": "14308977132914475412"
     },
     "user_tz": 240
    },
    "id": "f7a6bff0",
    "outputId": "ea79015d-ae67-4375-e529-ad691bdfa790"
   },
   "outputs": [],
   "source": [
    "#Check missing values for numerical columns.\n",
    "\n",
    "missing_num = data[num_cols].isnull().mean().round(4).mul(100).sort_values(ascending=False)\n",
    "\n",
    "print(missing_num, '\\n')\n",
    "\n",
    "missing_num = pd.DataFrame(missing_num)\n",
    "\n",
    "missing_num.columns = ['Value']\n",
    "\n",
    "missing_num = missing_num[missing_num['Value'] > 0]\n",
    "\n",
    "print('Numerical variables with missing values: ', list(missing_num.index), '\\n')\n",
    "\n",
    "print('Number of numerical variables with missing values: ', len(list(missing_num.index)), '\\n')\n",
    "\n",
    "missing_num = missing_num[missing_num['Value'] > 25]\n",
    "\n",
    "missing_num = list(missing_num.index)\n",
    "\n",
    "print('Excluded numerical variables: ', missing_num)"
   ]
  },
  {
   "cell_type": "code",
   "execution_count": null,
   "id": "e128cfb5",
   "metadata": {
    "executionInfo": {
     "elapsed": 6,
     "status": "ok",
     "timestamp": 1688935826087,
     "user": {
      "displayName": "Mert Karabacak",
      "userId": "14308977132914475412"
     },
     "user_tz": 240
    },
    "id": "e128cfb5"
   },
   "outputs": [],
   "source": [
    "#Drop numerical columns with missing values over 25%.\n",
    "\n",
    "data.drop(missing_num, axis=1, inplace=True)"
   ]
  },
  {
   "cell_type": "code",
   "execution_count": null,
   "id": "4756b292",
   "metadata": {
    "executionInfo": {
     "elapsed": 6,
     "status": "ok",
     "timestamp": 1688935826087,
     "user": {
      "displayName": "Mert Karabacak",
      "userId": "14308977132914475412"
     },
     "user_tz": 240
    },
    "id": "4756b292"
   },
   "outputs": [],
   "source": [
    "#Define new numerical columns.\n",
    "\n",
    "num_cols = [x for x in num_cols if x not in missing_num]"
   ]
  },
  {
   "cell_type": "code",
   "execution_count": null,
   "id": "ff8609cd",
   "metadata": {
    "executionInfo": {
     "elapsed": 1386,
     "status": "ok",
     "timestamp": 1688935827467,
     "user": {
      "displayName": "Mert Karabacak",
      "userId": "14308977132914475412"
     },
     "user_tz": 240
    },
    "id": "ff8609cd"
   },
   "outputs": [],
   "source": [
    "#Impute missing numerical values.\n",
    "\n",
    "num_imputer = KNNImputer(n_neighbors=5, weights='uniform', metric='nan_euclidean')\n",
    "data[num_cols] = num_imputer.fit_transform(data[num_cols])"
   ]
  },
  {
   "cell_type": "code",
   "execution_count": null,
   "id": "01b6490e",
   "metadata": {
    "colab": {
     "base_uri": "https://localhost:8080/"
    },
    "executionInfo": {
     "elapsed": 14,
     "status": "ok",
     "timestamp": 1688935827467,
     "user": {
      "displayName": "Mert Karabacak",
      "userId": "14308977132914475412"
     },
     "user_tz": 240
    },
    "id": "01b6490e",
    "outputId": "4b8ad6fb-006d-4d5f-8bfa-55d4eca0a82e"
   },
   "outputs": [],
   "source": [
    "#Check missing values for categorical columns.\n",
    "\n",
    "missing_cat = data[cat_cols].isnull().mean().round(4).mul(100).sort_values(ascending=False)\n",
    "\n",
    "print(missing_cat, '\\n')\n",
    "\n",
    "missing_cat = pd.DataFrame(missing_cat)\n",
    "\n",
    "missing_cat.columns = ['Value']\n",
    "\n",
    "missing_cat = missing_cat[missing_cat['Value'] > 0]\n",
    "\n",
    "print('Categorical variables with missing values: ', list(missing_cat.index), '\\n')\n",
    "\n",
    "print('Number of categorical variables with missing values: ', len(list(missing_cat.index)), '\\n')\n",
    "\n",
    "missing_cat = missing_cat[missing_cat['Value'] > 25]\n",
    "\n",
    "missing_cat = list(missing_cat.index)\n",
    "\n",
    "print('Excluded categorical variables: ', missing_cat)"
   ]
  },
  {
   "cell_type": "code",
   "execution_count": null,
   "id": "89d3cdc4",
   "metadata": {
    "executionInfo": {
     "elapsed": 11,
     "status": "ok",
     "timestamp": 1688935827468,
     "user": {
      "displayName": "Mert Karabacak",
      "userId": "14308977132914475412"
     },
     "user_tz": 240
    },
    "id": "89d3cdc4"
   },
   "outputs": [],
   "source": [
    "#Drop categorical columns with missing values over 25%.\n",
    "\n",
    "data.drop(missing_cat, axis=1, inplace=True)"
   ]
  },
  {
   "cell_type": "code",
   "execution_count": null,
   "id": "680fe385",
   "metadata": {
    "executionInfo": {
     "elapsed": 11,
     "status": "ok",
     "timestamp": 1688935827468,
     "user": {
      "displayName": "Mert Karabacak",
      "userId": "14308977132914475412"
     },
     "user_tz": 240
    },
    "id": "680fe385"
   },
   "outputs": [],
   "source": [
    "#Define new categorical columns.\n",
    "\n",
    "cat_cols = [x for x in cat_cols if x not in missing_cat]"
   ]
  },
  {
   "cell_type": "code",
   "execution_count": null,
   "id": "9250b986",
   "metadata": {
    "executionInfo": {
     "elapsed": 11,
     "status": "ok",
     "timestamp": 1688935827468,
     "user": {
      "displayName": "Mert Karabacak",
      "userId": "14308977132914475412"
     },
     "user_tz": 240
    },
    "id": "9250b986"
   },
   "outputs": [],
   "source": [
    "#Replace missing categorical values with 'Unknown'.\n",
    "\n",
    "for col in cat_cols:\n",
    "    data[col].fillna(value='Unknown', inplace=True)"
   ]
  },
  {
   "cell_type": "markdown",
   "id": "KrwBUN_YqMbV",
   "metadata": {
    "id": "KrwBUN_YqMbV"
   },
   "source": [
    "#Final Touches"
   ]
  },
  {
   "cell_type": "code",
   "execution_count": null,
   "id": "2289a865",
   "metadata": {
    "executionInfo": {
     "elapsed": 497,
     "status": "ok",
     "timestamp": 1688935827954,
     "user": {
      "displayName": "Mert Karabacak",
      "userId": "14308977132914475412"
     },
     "user_tz": 240
    },
    "id": "2289a865"
   },
   "outputs": [],
   "source": [
    "#Change variable names to field names.\n",
    "\n",
    "data_dictionary = pd.read_csv(\"/content/drive/MyDrive/NSQIP-PUFs/Data_Dictionary.csv\", encoding = 'latin1', index_col = None, low_memory = False)\n",
    "FieldNames = dict(zip(data_dictionary['Variable'], data_dictionary['Field Name']))\n",
    "FieldNames['Type of Operation'] = 'Type of Operation'\n",
    "data.columns = data.columns.map(lambda x: FieldNames.get(x, x))"
   ]
  },
  {
   "cell_type": "code",
   "execution_count": null,
   "id": "4336ba8a",
   "metadata": {
    "executionInfo": {
     "elapsed": 333,
     "status": "ok",
     "timestamp": 1688935828279,
     "user": {
      "displayName": "Mert Karabacak",
      "userId": "14308977132914475412"
     },
     "user_tz": 240
    },
    "id": "4336ba8a"
   },
   "outputs": [],
   "source": [
    "#Save imputed data.\n",
    "\n",
    "data.to_csv('/content/drive/MyDrive/NSQIP-Meningioma/imputed_data.csv')"
   ]
  },
  {
   "cell_type": "code",
   "execution_count": null,
   "id": "tZeT0Q6z5_2m",
   "metadata": {
    "executionInfo": {
     "elapsed": 5,
     "status": "ok",
     "timestamp": 1688935828279,
     "user": {
      "displayName": "Mert Karabacak",
      "userId": "14308977132914475412"
     },
     "user_tz": 240
    },
    "id": "tZeT0Q6z5_2m"
   },
   "outputs": [],
   "source": [
    "#Define new numerical columns\n",
    "\n",
    "num_cols = list(data.select_dtypes('number').columns)\n",
    "num_cols_remove = ['Length of Stay', 'NWNDINFD', 'NORGSPCSSI', 'NDEHIS', 'NREINTUB', 'NPULEMBOL', 'NFAILWEAN', 'NRENAINSF', 'NOPRENAFL', 'NCNSCVA', 'NCDARREST', 'NCDMI', 'NOTHBLEED', 'NOTHDVT', 'NOTHSYSEP', 'NOTHSESHOCK']\n",
    "num_cols = [i for i in num_cols if i not in num_cols_remove]"
   ]
  },
  {
   "cell_type": "code",
   "execution_count": null,
   "id": "OYkX_mkXqbBi",
   "metadata": {
    "executionInfo": {
     "elapsed": 139,
     "status": "ok",
     "timestamp": 1688935828587,
     "user": {
      "displayName": "Mert Karabacak",
      "userId": "14308977132914475412"
     },
     "user_tz": 240
    },
    "id": "OYkX_mkXqbBi"
   },
   "outputs": [],
   "source": [
    "#Manual label encoding.\n",
    "\n",
    "data.loc[data['Sex'] == 'Male', 'Sex'] = 0\n",
    "data.loc[data['Sex'] == 'Female', 'Sex'] = 1\n",
    "data.loc[data['Sex'] == 'Non-binary', 'Sex'] = 2\n",
    "data.loc[data['Race'] == 'White', 'Race'] = 0\n",
    "data.loc[data['Race'] == 'Black or African American', 'Race'] = 1\n",
    "data.loc[data['Race'] == 'Asian', 'Race'] = 2\n",
    "data.loc[data['Race'] == 'American Indian or Alaska Native', 'Race'] = 3\n",
    "data.loc[data['Race'] == 'Native Hawaiian or Pacific Islander', 'Race'] = 4\n",
    "data.loc[data['Race'] == 'Other/Unknown', 'Race'] = 4\n",
    "data.loc[data['Hispanic Ethnicity'] == 'No', 'Hispanic Ethnicity'] = 0\n",
    "data.loc[data['Hispanic Ethnicity'] == 'Yes', 'Hispanic Ethnicity'] = 1\n",
    "data.loc[data['Hispanic Ethnicity'] == 'Unknown', 'Hispanic Ethnicity'] = 2\n",
    "data.loc[data['Transfer Status'] == 'Not transferred', 'Transfer Status'] = 0\n",
    "data.loc[data['Transfer Status'] == 'Transferred', 'Transfer Status'] = 1\n",
    "data.loc[data['Transfer Status'] == 'Unknown', 'Transfer Status'] = 2\n",
    "data.loc[data['Diabetes Mellitus Requiring Therapy'] == 'No', 'Diabetes Mellitus Requiring Therapy'] = 0\n",
    "data.loc[data['Diabetes Mellitus Requiring Therapy'] == 'Yes (Insulin Dependent)', 'Diabetes Mellitus Requiring Therapy'] = 1\n",
    "data.loc[data['Diabetes Mellitus Requiring Therapy'] == 'Yes (Non-Insulin Dependent)', 'Diabetes Mellitus Requiring Therapy'] = 2\n",
    "data.loc[data['Current Smoker Status'] == 'No', 'Current Smoker Status'] = 0\n",
    "data.loc[data['Current Smoker Status'] == 'Yes', 'Current Smoker Status'] = 1\n",
    "data.loc[data['Current Smoker Status'] == 'Unknown', 'Current Smoker Status'] = 2\n",
    "data.loc[data['Dyspnea'] == 'No', 'Dyspnea'] = 0\n",
    "data.loc[data['Dyspnea'] == 'Yes', 'Dyspnea'] = 1\n",
    "data.loc[data['Ventilator Dependency'] == 'No', 'Ventilator Dependency'] = 0\n",
    "data.loc[data['Ventilator Dependency'] == 'Yes', 'Ventilator Dependency'] = 1\n",
    "data.loc[data['Functional Status'] == 'Independent', 'Functional Status'] = 0\n",
    "data.loc[data['Functional Status'] == 'Partially Dependent', 'Functional Status'] = 1\n",
    "data.loc[data['Functional Status'] == 'Totally Dependent', 'Functional Status'] = 2\n",
    "data.loc[data['Functional Status'] == 'Unknown', 'Functional Status'] = 3\n",
    "data.loc[data['History of Severe COPD'] == 'No', 'History of Severe COPD'] = 0\n",
    "data.loc[data['History of Severe COPD'] == 'Yes', 'History of Severe COPD'] = 1\n",
    "data.loc[data['Ascites within 30 Days Prior to Surgery'] == 'No', 'Ascites within 30 Days Prior to Surgery'] = 0\n",
    "data.loc[data['Ascites within 30 Days Prior to Surgery'] == 'Yes', 'Ascites within 30 Days Prior to Surgery'] = 1\n",
    "data.loc[data['CHF within 30 Days Prior to Surgery'] == 'No', 'CHF within 30 Days Prior to Surgery'] = 0\n",
    "data.loc[data['CHF within 30 Days Prior to Surgery'] == 'Yes', 'CHF within 30 Days Prior to Surgery'] = 1\n",
    "data.loc[data['Hypertension Requiring Medication'] == 'No', 'Hypertension Requiring Medication'] = 0\n",
    "data.loc[data['Hypertension Requiring Medication'] == 'Yes', 'Hypertension Requiring Medication'] = 1\n",
    "data.loc[data['Acute Renal Failure'] == 'No', 'Acute Renal Failure'] = 0\n",
    "data.loc[data['Acute Renal Failure'] == 'Yes', 'Acute Renal Failure'] = 1\n",
    "data.loc[data['Currently Requiring or on Dialysis'] == 'No', 'Currently Requiring or on Dialysis'] = 0\n",
    "data.loc[data['Currently Requiring or on Dialysis'] == 'Yes', 'Currently Requiring or on Dialysis'] = 1\n",
    "data.loc[data['Disseminated Cancer'] == 'No', 'Disseminated Cancer'] = 0\n",
    "data.loc[data['Disseminated Cancer'] == 'Yes', 'Disseminated Cancer'] = 1\n",
    "data.loc[data['Open Wound'] == 'No', 'Open Wound'] = 0\n",
    "data.loc[data['Open Wound'] == 'Yes', 'Open Wound'] = 1\n",
    "data.loc[data['Steroid or Immunosuppressant for a Chronic Condition'] == 'No', 'Steroid or Immunosuppressant for a Chronic Condition'] = 0\n",
    "data.loc[data['Steroid or Immunosuppressant for a Chronic Condition'] == 'Yes', 'Steroid or Immunosuppressant for a Chronic Condition'] = 1\n",
    "data.loc[data['Malnourishment'] == 'No', 'Malnourishment'] = 0\n",
    "data.loc[data['Malnourishment'] == 'Yes', 'Malnourishment'] = 1\n",
    "data.loc[data['Bleeding Disorder'] == 'No', 'Bleeding Disorder'] = 0\n",
    "data.loc[data['Bleeding Disorder'] == 'Yes', 'Bleeding Disorder'] = 1\n",
    "data.loc[data['RBC Transfusion within 72 Hours Prior to Surgery'] == 'No', 'RBC Transfusion within 72 Hours Prior to Surgery'] = 0\n",
    "data.loc[data['RBC Transfusion within 72 Hours Prior to Surgery'] == 'Yes', 'RBC Transfusion within 72 Hours Prior to Surgery'] = 1\n",
    "data.loc[data['ASA Classification'] == '1-No Disturb', 'ASA Classification'] = 0\n",
    "data.loc[data['ASA Classification'] == '2-Mild Disturb', 'ASA Classification'] = 1\n",
    "data.loc[data['ASA Classification'] == '3-Severe Disturb', 'ASA Classification'] = 2\n",
    "data.loc[data['ASA Classification'] == '4-Life Threat', 'ASA Classification'] = 3\n",
    "data.loc[data['ASA Classification'] == '5-Moribund', 'ASA Classification'] = 4\n",
    "data.loc[data['ASA Classification'] == 'None assigned', 'ASA Classification'] = 5\n",
    "\n",
    "data.loc[data['Localization'] == 'Supratentorial', 'Localization'] = 0\n",
    "data.loc[data['Localization'] == 'Infratentorial', 'Localization'] = 1\n",
    "\n",
    "columns = ['Sex', 'Race', 'Hispanic Ethnicity', 'Transfer Status',\n",
    "           'Diabetes Mellitus Requiring Therapy', 'Current Smoker Status', 'Dyspnea',\n",
    "           'Ventilator Dependency', 'Functional Status', 'History of Severe COPD',\n",
    "           'Ascites within 30 Days Prior to Surgery',\n",
    "           'CHF within 30 Days Prior to Surgery',\n",
    "           'Hypertension Requiring Medication', 'Acute Renal Failure',\n",
    "           'Currently Requiring or on Dialysis', 'Disseminated Cancer', 'Open Wound',\n",
    "           'Steroid or Immunosuppressant for a Chronic Condition', 'Malnourishment',\n",
    "           'Bleeding Disorder', 'RBC Transfusion within 72 Hours Prior to Surgery',\n",
    "           'ASA Classification', 'Localization']\n",
    "\n",
    "for column in columns:\n",
    "    data[column] = data[column].astype(int)"
   ]
  },
  {
   "cell_type": "code",
   "execution_count": null,
   "id": "-RZtACkYNCPq",
   "metadata": {
    "executionInfo": {
     "elapsed": 550,
     "status": "ok",
     "timestamp": 1688935829133,
     "user": {
      "displayName": "Mert Karabacak",
      "userId": "14308977132914475412"
     },
     "user_tz": 240
    },
    "id": "-RZtACkYNCPq"
   },
   "outputs": [],
   "source": [
    "#Save data for Gradio.\n",
    "\n",
    "gradio = data.copy()\n",
    "\n",
    "gradio.columns = gradio.columns.str.replace(' ', '_', regex=True)\n",
    "gradio.columns = gradio.columns.str.replace('-', '', regex=True)\n",
    "\n",
    "gradio.to_csv('/content/drive/MyDrive/NSQIP-Meningioma/gradio_data.csv')"
   ]
  },
  {
   "cell_type": "code",
   "execution_count": null,
   "id": "DmAyvIr15KOG",
   "metadata": {
    "executionInfo": {
     "elapsed": 12,
     "status": "ok",
     "timestamp": 1688935829134,
     "user": {
      "displayName": "Mert Karabacak",
      "userId": "14308977132914475412"
     },
     "user_tz": 240
    },
    "id": "DmAyvIr15KOG"
   },
   "outputs": [],
   "source": [
    "#Normalize data.\n",
    "\n",
    "data[num_cols] = MinMaxScaler().fit_transform(data[num_cols])"
   ]
  },
  {
   "cell_type": "code",
   "execution_count": null,
   "id": "1ENABv7xqmWs",
   "metadata": {
    "executionInfo": {
     "elapsed": 170,
     "status": "ok",
     "timestamp": 1688935829298,
     "user": {
      "displayName": "Mert Karabacak",
      "userId": "14308977132914475412"
     },
     "user_tz": 240
    },
    "id": "1ENABv7xqmWs"
   },
   "outputs": [],
   "source": [
    "#Save final data.\n",
    "\n",
    "data.to_csv('/content/drive/MyDrive/NSQIP-Meningioma/final_data.csv')"
   ]
  }
 ],
 "metadata": {
  "colab": {
   "machine_shape": "hm",
   "provenance": [
    {
     "file_id": "1qkdhVqVX240vYpWuEeJY_DKFacob5ztC",
     "timestamp": 1680800063857
    },
    {
     "file_id": "1ggfw-q5XTxdzPn9nnqb4pk7uxKjkpaga",
     "timestamp": 1672250375960
    },
    {
     "file_id": "1g8wyPIRJw1XKU7zF_T4SgLWpAzCOvEQJ",
     "timestamp": 1671643302648
    },
    {
     "file_id": "1Nau1T8kYhu_teXcKnDyTzUTVNIRcruHN",
     "timestamp": 1671032966766
    },
    {
     "file_id": "1fRg4CV3EaBnihAqddzIHeCaU4bmkgUi3",
     "timestamp": 1669913930106
    },
    {
     "file_id": "1AXH9JUz2PztvXr-hpN3EzKrUTEbGW2Si",
     "timestamp": 1669306790787
    }
   ],
   "toc_visible": true
  },
  "environment": {
   "kernel": "python3",
   "name": "common-cpu.m100",
   "type": "gcloud",
   "uri": "gcr.io/deeplearning-platform-release/base-cpu:m100"
  },
  "gpuClass": "standard",
  "kernelspec": {
   "display_name": "Python 3 (ipykernel)",
   "language": "python",
   "name": "python3"
  },
  "language_info": {
   "codemirror_mode": {
    "name": "ipython",
    "version": 3
   },
   "file_extension": ".py",
   "mimetype": "text/x-python",
   "name": "python",
   "nbconvert_exporter": "python",
   "pygments_lexer": "ipython3",
   "version": "3.9.6"
  }
 },
 "nbformat": 4,
 "nbformat_minor": 5
}
