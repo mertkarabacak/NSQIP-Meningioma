{
 "cells": [
  {
   "cell_type": "code",
   "execution_count": null,
   "metadata": {
    "colab": {
     "base_uri": "https://localhost:8080/"
    },
    "executionInfo": {
     "elapsed": 16953,
     "status": "ok",
     "timestamp": 1689267815590,
     "user": {
      "displayName": "Mert Karabacak",
      "userId": "14308977132914475412"
     },
     "user_tz": 240
    },
    "id": "RxtJ9G-aIZ_y",
    "outputId": "0fb7f103-8f84-412e-8eb2-7ebe2080192a"
   },
   "outputs": [],
   "source": [
    "from google.colab import drive\n",
    "drive.mount('/content/drive')"
   ]
  },
  {
   "cell_type": "code",
   "execution_count": null,
   "metadata": {
    "executionInfo": {
     "elapsed": 10039,
     "status": "ok",
     "timestamp": 1689267972840,
     "user": {
      "displayName": "Mert Karabacak",
      "userId": "14308977132914475412"
     },
     "user_tz": 240
    },
    "id": "JrZMQLTfIQPb"
   },
   "outputs": [],
   "source": [
    "import numpy as np\n",
    "import pandas as pd\n",
    "\n",
    "import sklearn\n",
    "import sklearn.metrics\n",
    "from sklearn.metrics import roc_auc_score, roc_curve, precision_recall_curve, average_precision_score, auc, precision_score, recall_score, accuracy_score, balanced_accuracy_score, brier_score_loss\n",
    "from sklearn.model_selection import train_test_split\n",
    "from sklearn.utils import resample\n",
    "from math import sqrt\n",
    "from scipy import stats as st\n",
    "from random import randrange\n",
    "from matplotlib import pyplot\n",
    "\n",
    "from tabpfn import TabPFNClassifier\n",
    "from pytorch_tabnet.tab_model import TabNetClassifier\n",
    "import xgboost as xgb\n",
    "import lightgbm as lgb\n",
    "from sklearn.ensemble import RandomForestClassifier\n",
    "from sklearn.linear_model import LogisticRegression\n",
    "\n",
    "import optuna\n",
    "from optuna.samplers import TPESampler\n",
    "\n",
    "import shap\n",
    "from sklearn.inspection import PartialDependenceDisplay"
   ]
  },
  {
   "cell_type": "markdown",
   "metadata": {
    "id": "UWbpPFMVHS-V"
   },
   "source": [
    "# Preparing Data"
   ]
  },
  {
   "cell_type": "code",
   "execution_count": null,
   "metadata": {
    "executionInfo": {
     "elapsed": 216,
     "status": "ok",
     "timestamp": 1689267973048,
     "user": {
      "displayName": "Mert Karabacak",
      "userId": "14308977132914475412"
     },
     "user_tz": 240
    },
    "id": "sDsi_6tnIQPc"
   },
   "outputs": [],
   "source": [
    "#Open csv file.\n",
    "\n",
    "data = pd.read_csv('/content/drive/MyDrive/NSQIP-Meningioma/final_data.csv', index_col = 0)"
   ]
  },
  {
   "cell_type": "code",
   "execution_count": null,
   "metadata": {
    "colab": {
     "base_uri": "https://localhost:8080/"
    },
    "executionInfo": {
     "elapsed": 22,
     "status": "ok",
     "timestamp": 1689267973049,
     "user": {
      "displayName": "Mert Karabacak",
      "userId": "14308977132914475412"
     },
     "user_tz": 240
    },
    "id": "y9ogVgyYcrWH",
    "outputId": "6fd61214-55ab-42b9-f43a-39a532e8755b"
   },
   "outputs": [],
   "source": [
    "#Exclude.\n",
    "\n",
    "before = data.shape[0]\n",
    "data = data[(data['Discharge Destination'] != 'Expired')]\n",
    "data = data[(data['Discharge Destination'] != 'Hospice')]\n",
    "data = data[(data['Discharge Destination'] != 'Against Medical Advice (AMA)')]\n",
    "\n",
    "after = data.shape[0]\n",
    "excluded = before - after\n",
    "\n",
    "print('Number of patients before exclusion: ', before)\n",
    "print('Number of patients after exclusion: ', after)\n",
    "print('Number of patients excluded with this criteria: ', excluded)"
   ]
  },
  {
   "cell_type": "code",
   "execution_count": null,
   "metadata": {
    "colab": {
     "base_uri": "https://localhost:8080/"
    },
    "executionInfo": {
     "elapsed": 18,
     "status": "ok",
     "timestamp": 1689267973049,
     "user": {
      "displayName": "Mert Karabacak",
      "userId": "14308977132914475412"
     },
     "user_tz": 240
    },
    "id": "hPmUaNyUN2p8",
    "outputId": "aef0ac50-9f8b-4258-b6ec-0cf82af3d3c6"
   },
   "outputs": [],
   "source": [
    "#Define outcome of interest.\n",
    "\n",
    "data.loc[data['Reoperation Status'] == 'Yes', 'OUTCOME'] = 1\n",
    "data.loc[data['OUTCOME'] != 1, 'OUTCOME'] = 0\n",
    "\n",
    "print(data['OUTCOME'].value_counts(normalize=False, dropna=False))\n",
    "print(data['OUTCOME'].value_counts(normalize=True, dropna=False))"
   ]
  },
  {
   "cell_type": "code",
   "execution_count": null,
   "metadata": {
    "executionInfo": {
     "elapsed": 177,
     "status": "ok",
     "timestamp": 1689267973218,
     "user": {
      "displayName": "Mert Karabacak",
      "userId": "14308977132914475412"
     },
     "user_tz": 240
    },
    "id": "LhZeK6d8IQPd"
   },
   "outputs": [],
   "source": [
    "#Define predictor variables (x) and outcome of interest (y).\n",
    "\n",
    "outcomes = outcomes = ['Readmission Status', 'Discharge Destination', 'Reoperation Status', 'Length of Stay', 'NWNDINFD', 'NORGSPCSSI', 'NDEHIS', 'NREINTUB', 'NPULEMBOL', 'NFAILWEAN', 'NRENAINSF', 'NOPRENAFL', 'NCNSCVA', 'NCDARREST', 'NCDMI', 'NOTHBLEED', 'NOTHDVT', 'NOTHSYSEP', 'NOTHSESHOCK', 'OUTCOME']\n",
    "\n",
    "x = data.drop(outcomes, axis = 1)\n",
    "y = data['OUTCOME']"
   ]
  },
  {
   "cell_type": "code",
   "execution_count": null,
   "metadata": {
    "colab": {
     "base_uri": "https://localhost:8080/"
    },
    "executionInfo": {
     "elapsed": 23,
     "status": "ok",
     "timestamp": 1689267973218,
     "user": {
      "displayName": "Mert Karabacak",
      "userId": "14308977132914475412"
     },
     "user_tz": 240
    },
    "id": "mt6ks1daIQPd",
    "outputId": "aa0839a9-2a6f-473c-e2de-cf49e8142922"
   },
   "outputs": [],
   "source": [
    "#Check data shapes.\n",
    "\n",
    "print(y.shape)\n",
    "print(x.shape)"
   ]
  },
  {
   "cell_type": "code",
   "execution_count": null,
   "metadata": {
    "colab": {
     "base_uri": "https://localhost:8080/"
    },
    "executionInfo": {
     "elapsed": 23,
     "status": "ok",
     "timestamp": 1689267973219,
     "user": {
      "displayName": "Mert Karabacak",
      "userId": "14308977132914475412"
     },
     "user_tz": 240
    },
    "id": "d0IwUyCsIQPe",
    "outputId": "16e0a745-f711-49be-f271-d3f2ee6175cc"
   },
   "outputs": [],
   "source": [
    "#Split data into initial train set and test set in 80:20 ratio.\n",
    "\n",
    "x_train, x_test, y_train, y_test = train_test_split(x, y, test_size = 0.2, random_state = 0)\n",
    "\n",
    "#Describe initial train set and test set.\n",
    "\n",
    "print(\"Number patients x_train dataset: \", x_train.shape[0])\n",
    "print(\"Number patients y_train dataset: \", y_train.shape[0])\n",
    "print(\"Number patients x_test dataset: \", x_test.shape[0])\n",
    "print(\"Number patients y_test dataset: \", y_test.shape[0])"
   ]
  },
  {
   "cell_type": "code",
   "execution_count": null,
   "metadata": {
    "colab": {
     "base_uri": "https://localhost:8080/"
    },
    "executionInfo": {
     "elapsed": 16,
     "status": "ok",
     "timestamp": 1689267973219,
     "user": {
      "displayName": "Mert Karabacak",
      "userId": "14308977132914475412"
     },
     "user_tz": 240
    },
    "id": "WyNo7C2Pbzt2",
    "outputId": "5469d0de-76e0-4834-8ba4-e20833104c26"
   },
   "outputs": [],
   "source": [
    "#Split initial train set into final train set and validation set in 75:25 ratio.\n",
    "\n",
    "train_x, valid_x, train_y, valid_y = train_test_split(x_train, y_train, test_size = 0.25, random_state = 0)\n",
    "\n",
    "#Describe train and validation sets.\n",
    "\n",
    "print(\"Number patients train_x dataset: \", train_x.shape[0])\n",
    "print(\"Number patients train_y dataset: \", train_y.shape[0])\n",
    "print(\"Number patients valid_x dataset: \", valid_x.shape[0])\n",
    "print(\"Number patients valid_y dataset: \", valid_y.shape[0])"
   ]
  },
  {
   "cell_type": "code",
   "execution_count": null,
   "metadata": {
    "colab": {
     "base_uri": "https://localhost:8080/"
    },
    "executionInfo": {
     "elapsed": 12,
     "status": "ok",
     "timestamp": 1689267973220,
     "user": {
      "displayName": "Mert Karabacak",
      "userId": "14308977132914475412"
     },
     "user_tz": 240
    },
    "id": "g2O0He35IQPe",
    "outputId": "e1700e0d-a768-4fbf-f08b-daed04257c0e"
   },
   "outputs": [],
   "source": [
    "#Describe outcome of interest before resampling.\n",
    "\n",
    "print(\"Before resampling, counts of label '1': {}\".format(sum(train_y == 1)))\n",
    "print(\"Before resampling, counts of label '0': {} \\n\".format(sum(train_y == 0)))"
   ]
  },
  {
   "cell_type": "code",
   "execution_count": null,
   "metadata": {
    "executionInfo": {
     "elapsed": 197,
     "status": "ok",
     "timestamp": 1689267973410,
     "user": {
      "displayName": "Mert Karabacak",
      "userId": "14308977132914475412"
     },
     "user_tz": 240
    },
    "id": "QvXczViaIQPe"
   },
   "outputs": [],
   "source": [
    "#Apply SMOTE.\n",
    "\n",
    "from imblearn.over_sampling import SMOTE\n",
    "\n",
    "resampler = SMOTE(random_state = 0)\n",
    "train_x, train_y = resampler.fit_resample(train_x, train_y)"
   ]
  },
  {
   "cell_type": "code",
   "execution_count": null,
   "metadata": {
    "colab": {
     "base_uri": "https://localhost:8080/"
    },
    "executionInfo": {
     "elapsed": 9,
     "status": "ok",
     "timestamp": 1689267973411,
     "user": {
      "displayName": "Mert Karabacak",
      "userId": "14308977132914475412"
     },
     "user_tz": 240
    },
    "id": "mYw68tzFIQPe",
    "outputId": "1b274e96-32f1-4d17-9227-5f3d65d75df6"
   },
   "outputs": [],
   "source": [
    "#Describe outcome of interest after resampling.\n",
    "\n",
    "print(\"After resampling, counts of label '1': {}\".format(sum(train_y == 1)))\n",
    "print(\"After resampling, counts of label '0': {} \\n\".format(sum(train_y == 0)))"
   ]
  },
  {
   "cell_type": "code",
   "execution_count": null,
   "metadata": {
    "executionInfo": {
     "elapsed": 7,
     "status": "ok",
     "timestamp": 1689267973411,
     "user": {
      "displayName": "Mert Karabacak",
      "userId": "14308977132914475412"
     },
     "user_tz": 240
    },
    "id": "lrb8PN0dEOc1"
   },
   "outputs": [],
   "source": [
    "#Define function for AUROC with 95% confidence intervals.\n",
    "\n",
    "def auroc_ci(y_test, y_probs, positive=1, n_samples=1000, alpha=0.05):\n",
    "    auroc_values = []\n",
    "    for i in range(n_samples):\n",
    "        y_test_bs, y_probs_bs = resample(y_test, y_probs)\n",
    "\n",
    "        auroc = roc_auc_score(y_test_bs, y_probs_bs)\n",
    "        auroc_values.append(auroc)\n",
    "\n",
    "    mean_auroc = np.mean(auroc_values)\n",
    "    std_auroc = np.std(auroc_values)\n",
    "\n",
    "    lower_ci = mean_auroc - 1.96 * std_auroc\n",
    "    upper_ci = mean_auroc + 1.96 * std_auroc\n",
    "\n",
    "    return auroc, lower_ci, upper_ci"
   ]
  },
  {
   "cell_type": "code",
   "execution_count": null,
   "metadata": {
    "executionInfo": {
     "elapsed": 7,
     "status": "ok",
     "timestamp": 1689267973411,
     "user": {
      "displayName": "Mert Karabacak",
      "userId": "14308977132914475412"
     },
     "user_tz": 240
    },
    "id": "BLkyBrpf95-0"
   },
   "outputs": [],
   "source": [
    "#Define z-value for other confidence intervals.\n",
    "\n",
    "confidence = 0.95\n",
    "z_value = st.norm.ppf((1 + confidence) / 2.0)"
   ]
  },
  {
   "cell_type": "markdown",
   "metadata": {
    "id": "UWX_CriXYlL_"
   },
   "source": [
    "#TabPFN"
   ]
  },
  {
   "cell_type": "markdown",
   "metadata": {
    "id": "OFQmwskRLrY4"
   },
   "source": [
    "No hyperparameter tuning is performed for TabPFN since the paper that introduced TabPFN claims no hyperparameter tuning is needed for it:\n",
    "\n",
    "\n",
    "*We present TabPFN, a trained Transformer that can do supervised classification for small tabular datasets in less than a second, needs no hyperparameter tuning and is competitive with state-of-the-art classification methods.*\n",
    "\n",
    "https://doi.org/10.48550/arXiv.2207.01848\n"
   ]
  },
  {
   "cell_type": "code",
   "execution_count": null,
   "metadata": {
    "colab": {
     "base_uri": "https://localhost:8080/",
     "height": 162
    },
    "executionInfo": {
     "elapsed": 3079,
     "status": "ok",
     "timestamp": 1689267976484,
     "user": {
      "displayName": "Mert Karabacak",
      "userId": "14308977132914475412"
     },
     "user_tz": 240
    },
    "id": "F3gvvODJ8B2Z",
    "outputId": "9285ec9e-2158-401f-c0bb-09d8d564c6de"
   },
   "outputs": [],
   "source": [
    "#Fit TabPFN.\n",
    "\n",
    "tabpfn = TabPFNClassifier(device='cpu', N_ensemble_configurations=2)\n",
    "\n",
    "tabpfn.fit(x_train.sample(frac=0.10, random_state=42), y_train.sample(frac=0.10, random_state=42), overwrite_warning = True)"
   ]
  },
  {
   "cell_type": "code",
   "execution_count": null,
   "metadata": {
    "colab": {
     "base_uri": "https://localhost:8080/",
     "height": 74
    },
    "executionInfo": {
     "elapsed": 4896,
     "status": "ok",
     "timestamp": 1689267981261,
     "user": {
      "displayName": "Mert Karabacak",
      "userId": "14308977132914475412"
     },
     "user_tz": 240
    },
    "id": "5oLbONin8YGA",
    "outputId": "2931771e-6c40-45c1-8298-9553efcfbcb1"
   },
   "outputs": [],
   "source": [
    "#Predict on the validation set, get predicted probabilities for calibration, and fit calibration function.\n",
    "\n",
    "calib_probs_tabpfn = tabpfn.predict_proba(valid_x.values)\n",
    "\n",
    "calib_model_tabpfn = LogisticRegression()\n",
    "calib_model_tabpfn.fit(calib_probs_tabpfn, valid_y)"
   ]
  },
  {
   "cell_type": "code",
   "execution_count": null,
   "metadata": {
    "colab": {
     "base_uri": "https://localhost:8080/"
    },
    "executionInfo": {
     "elapsed": 10247,
     "status": "ok",
     "timestamp": 1689267991500,
     "user": {
      "displayName": "Mert Karabacak",
      "userId": "14308977132914475412"
     },
     "user_tz": 240
    },
    "id": "UZNInXD39Tux",
    "outputId": "8872cb0e-1319-418f-c611-234e63d53c5a"
   },
   "outputs": [],
   "source": [
    "#Make predictions on the test set based on the trained TabNet model.\n",
    "\n",
    "preds_tabpfn = tabpfn.predict(x_test.values)\n",
    "\n",
    "uncalibrated_probs_tabpfn = tabpfn.predict_proba(x_test.values)\n",
    "\n",
    "probs_tabpfn = calib_model_tabpfn.predict_proba(uncalibrated_probs_tabpfn)\n",
    "probs_tabpfn = probs_tabpfn[:, 1]"
   ]
  },
  {
   "cell_type": "code",
   "execution_count": null,
   "metadata": {
    "colab": {
     "base_uri": "https://localhost:8080/"
    },
    "executionInfo": {
     "elapsed": 2996,
     "status": "ok",
     "timestamp": 1689267994481,
     "user": {
      "displayName": "Mert Karabacak",
      "userId": "14308977132914475412"
     },
     "user_tz": 240
    },
    "id": "Sm8PNeSm9dtI",
    "outputId": "605ccf72-d461-4162-f80e-2b6e8eb6ef37"
   },
   "outputs": [],
   "source": [
    "#Evaluate TabNet model.\n",
    "\n",
    "tabpfn_precision = round(precision_score(y_test, preds_tabpfn, average = 'weighted'), 3)\n",
    "tabpfn_precision_ci_length = z_value * np.sqrt((tabpfn_precision * (1 - tabpfn_precision)) / y_test.shape[0])\n",
    "tabpfn_precision_ci_lower = round((tabpfn_precision - tabpfn_precision_ci_length), 3)\n",
    "tabpfn_precision_ci_upper = round((tabpfn_precision + tabpfn_precision_ci_length), 3)\n",
    "tabpfn_precision_str = str(tabpfn_precision) + ' (' + str(tabpfn_precision_ci_lower) + ' - ' + str(tabpfn_precision_ci_upper) + ')'\n",
    "\n",
    "tabpfn_recall = round(recall_score(y_test, preds_tabpfn, average = 'weighted'), 3)\n",
    "tabpfn_recall_ci_length = z_value * np.sqrt((tabpfn_recall * (1 - tabpfn_recall)) / y_test.shape[0])\n",
    "tabpfn_recall_ci_lower = round((tabpfn_recall - tabpfn_recall_ci_length), 3)\n",
    "tabpfn_recall_ci_upper = round((tabpfn_recall + tabpfn_recall_ci_length), 3)\n",
    "tabpfn_recall_str = str(tabpfn_recall) + ' (' + str(tabpfn_recall_ci_lower) + ' - ' + str(tabpfn_recall_ci_upper) + ')'\n",
    "\n",
    "tabpfn_auprc = round(average_precision_score(y_test, probs_tabpfn, average = 'weighted'), 3)\n",
    "tabpfn_auprc_ci_length = z_value * np.sqrt((tabpfn_auprc * (1 - tabpfn_auprc)) / y_test.shape[0])\n",
    "tabpfn_auprc_ci_lower = round((tabpfn_auprc - tabpfn_auprc_ci_length), 3)\n",
    "tabpfn_auprc_ci_upper = round((tabpfn_auprc + tabpfn_auprc_ci_length), 3)\n",
    "tabpfn_auprc_str = str(tabpfn_auprc) + ' (' + str(tabpfn_auprc_ci_lower) + ' - ' + str(tabpfn_auprc_ci_upper) + ')'\n",
    "\n",
    "tabpfn_accuracy = round(balanced_accuracy_score(y_test, preds_tabpfn), 3)\n",
    "tabpfn_accuracy_ci_length = z_value * np.sqrt((tabpfn_accuracy * (1 - tabpfn_accuracy)) / y_test.shape[0])\n",
    "tabpfn_accuracy_ci_lower = round((tabpfn_accuracy - tabpfn_accuracy_ci_length), 3)\n",
    "tabpfn_accuracy_ci_upper = round((tabpfn_accuracy + tabpfn_accuracy_ci_length), 3)\n",
    "tabpfn_accuracy_str = str(tabpfn_accuracy) + ' (' + str(tabpfn_accuracy_ci_lower) + ' - ' + str(tabpfn_accuracy_ci_upper) + ')'\n",
    "\n",
    "tabpfn_auroc, tabpfn_auroc_ci_lower, tabpfn_auroc_ci_upper = auroc_ci(y_test, probs_tabpfn)\n",
    "tabpfn_auroc = round(tabpfn_auroc, 3)\n",
    "tabpfn_auroc_ci_lower = round(tabpfn_auroc_ci_lower, 3)\n",
    "tabpfn_auroc_ci_upper = round(tabpfn_auroc_ci_upper, 3)\n",
    "tabpfn_auroc_str = str(tabpfn_auroc) + ' (' + str(tabpfn_auroc_ci_lower) + ' - ' + str(tabpfn_auroc_ci_upper) + ')'\n",
    "\n",
    "tabpfn_brier = round(brier_score_loss(y_test, probs_tabpfn), 3)\n",
    "tabpfn_brier_ci_length = z_value * np.sqrt((tabpfn_brier * (1 - tabpfn_brier)) / y_test.shape[0])\n",
    "tabpfn_brier_ci_lower = round((tabpfn_brier - tabpfn_brier_ci_length), 3)\n",
    "tabpfn_brier_ci_upper = round((tabpfn_brier + tabpfn_brier_ci_length), 3)\n",
    "tabpfn_brier_str = str(tabpfn_brier) + ' (' + str(tabpfn_brier_ci_lower) + ' - ' + str(tabpfn_brier_ci_upper) + ')'\n",
    "\n",
    "tabpfn_results = [tabpfn_precision_str, tabpfn_recall_str, tabpfn_auprc_str, tabpfn_accuracy_str, tabpfn_auroc_str, tabpfn_brier_str]\n",
    "\n",
    "print(\"Precision: \", (tabpfn_precision_str))\n",
    "print(\"Recall: \", (tabpfn_recall_str))\n",
    "print('AUPRC: ', (tabpfn_auprc_str))\n",
    "print('Accuracy: ', (tabpfn_accuracy_str))\n",
    "print('AUROC: ', (tabpfn_auroc_str))\n",
    "print('Brier Score: ', (tabpfn_brier_str))"
   ]
  },
  {
   "cell_type": "code",
   "execution_count": null,
   "metadata": {
    "colab": {
     "base_uri": "https://localhost:8080/"
    },
    "executionInfo": {
     "elapsed": 13,
     "status": "ok",
     "timestamp": 1689267994482,
     "user": {
      "displayName": "Mert Karabacak",
      "userId": "14308977132914475412"
     },
     "user_tz": 240
    },
    "id": "0wp5veHVFWIB",
    "outputId": "b4d5a74f-7111-4dc2-ce25-b3c842390911"
   },
   "outputs": [],
   "source": [
    "#Recalculate precision recall curve for plotting purposes.\n",
    "\n",
    "tabpfn_precision_curve, tabpfn_recall_curve, _ = precision_recall_curve(y_test, probs_tabpfn)"
   ]
  },
  {
   "cell_type": "markdown",
   "metadata": {
    "id": "BY44IPIU7sBi"
   },
   "source": [
    "# TabNet"
   ]
  },
  {
   "cell_type": "code",
   "execution_count": null,
   "metadata": {
    "colab": {
     "base_uri": "https://localhost:8080/"
    },
    "executionInfo": {
     "elapsed": 670565,
     "status": "ok",
     "timestamp": 1689268665037,
     "user": {
      "displayName": "Mert Karabacak",
      "userId": "14308977132914475412"
     },
     "user_tz": 240
    },
    "id": "beooviDI7uuS",
    "outputId": "faf5eb1d-cb79-402a-a41f-4dc88c808251"
   },
   "outputs": [],
   "source": [
    "# Hyperparameter tuning for TabNet.\n",
    "\n",
    "def objective(trial):\n",
    "\n",
    "    param = {\n",
    "        \"n_d\": trial.suggest_int(\"n_d\", 8, 64),\n",
    "        \"n_a\": trial.suggest_int(\"n_a\", 8, 64),\n",
    "        \"n_steps\": trial.suggest_int(\"n_steps\", 1, 10),\n",
    "        \"gamma\": trial.suggest_float(\"gamma\", 1.0, 2.0),\n",
    "        \"n_independent\": trial.suggest_int(\"n_independent\", 1, 5),\n",
    "        \"n_shared\": trial.suggest_int(\"n_shared\", 1, 5),\n",
    "        \"lambda_sparse\": trial.suggest_loguniform(\"lambda_sparse\", 1e-6, 1e-3),\n",
    "        \"optimizer_params\": {\"lr\": trial.suggest_loguniform(\"lr\", 1e-5, 1e-2)},\n",
    "        \"seed\": 31,\n",
    "    }\n",
    "\n",
    "    tabnet_clf = TabNetClassifier(**param)\n",
    "\n",
    "    tabnet_clf.fit(\n",
    "        train_x.values,\n",
    "        train_y.values,\n",
    "        eval_set=[(valid_x.values, valid_y.values)],\n",
    "        eval_metric=[\"auc\"],\n",
    "        max_epochs=200,\n",
    "        patience=20,\n",
    "        batch_size=1024,\n",
    "        virtual_batch_size=128,\n",
    "        num_workers=0,\n",
    "        drop_last=False,\n",
    "    )\n",
    "\n",
    "    preds = tabnet_clf.predict_proba(valid_x.values)[:, 1]\n",
    "    pred_labels = np.rint(preds)\n",
    "    auc = sklearn.metrics.roc_auc_score(valid_y, pred_labels)\n",
    "\n",
    "    return auc\n",
    "\n",
    "\n",
    "if __name__ == \"__main__\":\n",
    "    study = optuna.create_study(direction='maximize', sampler=TPESampler(seed=31))\n",
    "    study.optimize(objective, n_trials=100, timeout=600)\n",
    "\n",
    "    print(\"Number of finished trials: {}\".format(len(study.trials)))\n",
    "\n",
    "    print(\"Best trial:\")\n",
    "    trial = study.best_trial\n",
    "\n",
    "    print(\"  Value: {}\".format(trial.value))\n",
    "\n",
    "    print(\"  Params: \")\n",
    "    for key, value in trial.params.items():\n",
    "        print(\"    {}: {}\".format(key, value))\n",
    "\n",
    "    tabnet_params = {}\n",
    "\n",
    "    for key, value in trial.params.items():\n",
    "        tabnet_params[key] = value"
   ]
  },
  {
   "cell_type": "code",
   "execution_count": null,
   "metadata": {
    "colab": {
     "base_uri": "https://localhost:8080/"
    },
    "executionInfo": {
     "elapsed": 41,
     "status": "ok",
     "timestamp": 1689268665040,
     "user": {
      "displayName": "Mert Karabacak",
      "userId": "14308977132914475412"
     },
     "user_tz": 240
    },
    "id": "gXsTkX3n_i2y",
    "outputId": "13803df3-919e-4311-a6e4-2596ca51f882"
   },
   "outputs": [],
   "source": [
    "#See TabNet hyperparameters.\n",
    "\n",
    "tabnet_params.pop('lr')\n",
    "\n",
    "print(tabnet_params)"
   ]
  },
  {
   "cell_type": "code",
   "execution_count": null,
   "metadata": {
    "colab": {
     "base_uri": "https://localhost:8080/"
    },
    "executionInfo": {
     "elapsed": 246921,
     "status": "ok",
     "timestamp": 1689268911939,
     "user": {
      "displayName": "Mert Karabacak",
      "userId": "14308977132914475412"
     },
     "user_tz": 240
    },
    "id": "pujw5iMQ_i2y",
    "outputId": "5700feb9-73a5-438d-a3de-e6e36550a777"
   },
   "outputs": [],
   "source": [
    "#Fit TabNet.\n",
    "\n",
    "tabnet = TabNetClassifier(**tabnet_params)\n",
    "\n",
    "tabnet.fit(train_x.values, train_y.values)"
   ]
  },
  {
   "cell_type": "code",
   "execution_count": null,
   "metadata": {
    "colab": {
     "base_uri": "https://localhost:8080/",
     "height": 111
    },
    "executionInfo": {
     "elapsed": 387,
     "status": "ok",
     "timestamp": 1689268912310,
     "user": {
      "displayName": "Mert Karabacak",
      "userId": "14308977132914475412"
     },
     "user_tz": 240
    },
    "id": "xYiPND2v_i2y",
    "outputId": "22bce8df-1193-4d0c-baba-562fb77c8040"
   },
   "outputs": [],
   "source": [
    "#Predict on the validation set, get predicted probabilities for calibration, and fit calibration function.\n",
    "\n",
    "calib_probs_tabnet = tabnet.predict_proba(valid_x.values)\n",
    "\n",
    "calib_model_tabnet = LogisticRegression()\n",
    "calib_model_tabnet.fit(calib_probs_tabnet, valid_y)"
   ]
  },
  {
   "cell_type": "code",
   "execution_count": null,
   "metadata": {
    "colab": {
     "base_uri": "https://localhost:8080/"
    },
    "executionInfo": {
     "elapsed": 476,
     "status": "ok",
     "timestamp": 1689268912672,
     "user": {
      "displayName": "Mert Karabacak",
      "userId": "14308977132914475412"
     },
     "user_tz": 240
    },
    "id": "y1AJq9eA_i2y",
    "outputId": "d30e16d0-1380-440b-89e9-e9fb7b9dfd4d"
   },
   "outputs": [],
   "source": [
    "#Make predictions on the test set based on the trained TabNet model.\n",
    "\n",
    "preds_tabnet = tabnet.predict(x_test.values)\n",
    "\n",
    "uncalibrated_probs_tabnet = tabnet.predict_proba(x_test.values)\n",
    "\n",
    "probs_tabnet = calib_model_tabnet.predict_proba(uncalibrated_probs_tabnet)\n",
    "probs_tabnet = probs_tabnet[:, 1]"
   ]
  },
  {
   "cell_type": "code",
   "execution_count": null,
   "metadata": {
    "colab": {
     "base_uri": "https://localhost:8080/"
    },
    "executionInfo": {
     "elapsed": 1997,
     "status": "ok",
     "timestamp": 1689268914663,
     "user": {
      "displayName": "Mert Karabacak",
      "userId": "14308977132914475412"
     },
     "user_tz": 240
    },
    "id": "AP-y4lEI_i2z",
    "outputId": "5083720a-08b7-4e71-aab2-8570105afdca"
   },
   "outputs": [],
   "source": [
    "#Evaluate TabNet model.\n",
    "\n",
    "tabnet_precision = round(precision_score(y_test, preds_tabnet, average = 'weighted'), 3)\n",
    "tabnet_precision_ci_length = z_value * np.sqrt((tabnet_precision * (1 - tabnet_precision)) / y_test.shape[0])\n",
    "tabnet_precision_ci_lower = round((tabnet_precision - tabnet_precision_ci_length), 3)\n",
    "tabnet_precision_ci_upper = round((tabnet_precision + tabnet_precision_ci_length), 3)\n",
    "tabnet_precision_str = str(tabnet_precision) + ' (' + str(tabnet_precision_ci_lower) + ' - ' + str(tabnet_precision_ci_upper) + ')'\n",
    "\n",
    "tabnet_recall = round(recall_score(y_test, preds_tabnet, average = 'weighted'), 3)\n",
    "tabnet_recall_ci_length = z_value * np.sqrt((tabnet_recall * (1 - tabnet_recall)) / y_test.shape[0])\n",
    "tabnet_recall_ci_lower = round((tabnet_recall - tabnet_recall_ci_length), 3)\n",
    "tabnet_recall_ci_upper = round((tabnet_recall + tabnet_recall_ci_length), 3)\n",
    "tabnet_recall_str = str(tabnet_recall) + ' (' + str(tabnet_recall_ci_lower) + ' - ' + str(tabnet_recall_ci_upper) + ')'\n",
    "\n",
    "tabnet_auprc = round(average_precision_score(y_test, probs_tabnet, average = 'weighted'), 3)\n",
    "tabnet_auprc_ci_length = z_value * np.sqrt((tabnet_auprc * (1 - tabnet_auprc)) / y_test.shape[0])\n",
    "tabnet_auprc_ci_lower = round((tabnet_auprc - tabnet_auprc_ci_length), 3)\n",
    "tabnet_auprc_ci_upper = round((tabnet_auprc + tabnet_auprc_ci_length), 3)\n",
    "tabnet_auprc_str = str(tabnet_auprc) + ' (' + str(tabnet_auprc_ci_lower) + ' - ' + str(tabnet_auprc_ci_upper) + ')'\n",
    "\n",
    "tabnet_accuracy = round(balanced_accuracy_score(y_test, preds_tabnet), 3)\n",
    "tabnet_accuracy_ci_length = z_value * np.sqrt((tabnet_accuracy * (1 - tabnet_accuracy)) / y_test.shape[0])\n",
    "tabnet_accuracy_ci_lower = round((tabnet_accuracy - tabnet_accuracy_ci_length), 3)\n",
    "tabnet_accuracy_ci_upper = round((tabnet_accuracy + tabnet_accuracy_ci_length), 3)\n",
    "tabnet_accuracy_str = str(tabnet_accuracy) + ' (' + str(tabnet_accuracy_ci_lower) + ' - ' + str(tabnet_accuracy_ci_upper) + ')'\n",
    "\n",
    "tabnet_auroc, tabnet_auroc_ci_lower, tabnet_auroc_ci_upper = auroc_ci(y_test, probs_tabnet)\n",
    "tabnet_auroc = round(tabnet_auroc, 3)\n",
    "tabnet_auroc_ci_lower = round(tabnet_auroc_ci_lower, 3)\n",
    "tabnet_auroc_ci_upper = round(tabnet_auroc_ci_upper, 3)\n",
    "tabnet_auroc_str = str(tabnet_auroc) + ' (' + str(tabnet_auroc_ci_lower) + ' - ' + str(tabnet_auroc_ci_upper) + ')'\n",
    "\n",
    "tabnet_brier = round(brier_score_loss(y_test, probs_tabnet), 3)\n",
    "tabnet_brier_ci_length = z_value * np.sqrt((tabnet_brier * (1 - tabnet_brier)) / y_test.shape[0])\n",
    "tabnet_brier_ci_lower = round((tabnet_brier - tabnet_brier_ci_length), 3)\n",
    "tabnet_brier_ci_upper = round((tabnet_brier + tabnet_brier_ci_length), 3)\n",
    "tabnet_brier_str = str(tabnet_brier) + ' (' + str(tabnet_brier_ci_lower) + ' - ' + str(tabnet_brier_ci_upper) + ')'\n",
    "\n",
    "tabnet_results = [tabnet_precision_str, tabnet_recall_str, tabnet_auprc_str, tabnet_accuracy_str, tabnet_auroc_str, tabnet_brier_str]\n",
    "\n",
    "print(\"Precision: \", (tabnet_precision_str))\n",
    "print(\"Recall: \", (tabnet_recall_str))\n",
    "print('AUPRC: ', (tabnet_auprc_str))\n",
    "print('Accuracy: ', (tabnet_accuracy_str))\n",
    "print('AUROC: ', (tabnet_auroc_str))\n",
    "print('Brier Score: ', (tabnet_brier_str))"
   ]
  },
  {
   "cell_type": "code",
   "execution_count": null,
   "metadata": {
    "colab": {
     "base_uri": "https://localhost:8080/"
    },
    "executionInfo": {
     "elapsed": 26,
     "status": "ok",
     "timestamp": 1689268914664,
     "user": {
      "displayName": "Mert Karabacak",
      "userId": "14308977132914475412"
     },
     "user_tz": 240
    },
    "id": "tsAsKQ1e_i2z",
    "outputId": "e17e4650-44ba-440d-e404-1c624190bc52"
   },
   "outputs": [],
   "source": [
    "#Recalculate precision recall curve for plotting purposes.\n",
    "\n",
    "tabnet_precision_curve, tabnet_recall_curve, _ = precision_recall_curve(y_test, probs_tabnet)"
   ]
  },
  {
   "cell_type": "markdown",
   "metadata": {
    "id": "esuV5nR8IQPe"
   },
   "source": [
    "# XGBoost"
   ]
  },
  {
   "cell_type": "code",
   "execution_count": null,
   "metadata": {
    "colab": {
     "base_uri": "https://localhost:8080/"
    },
    "executionInfo": {
     "elapsed": 23815,
     "status": "ok",
     "timestamp": 1689268938463,
     "user": {
      "displayName": "Mert Karabacak",
      "userId": "14308977132914475412"
     },
     "user_tz": 240
    },
    "id": "dBWNs_MxIQPf",
    "outputId": "dbafc24b-b99a-4094-bdaf-7c3dd1b66920"
   },
   "outputs": [],
   "source": [
    "#Hyperparameter tuning for XGBoost.\n",
    "\n",
    "def objective(trial):\n",
    "\n",
    "    dtrain = xgb.DMatrix(train_x, label=train_y)\n",
    "    dvalid = xgb.DMatrix(valid_x, label=valid_y)\n",
    "\n",
    "    param = {\n",
    "        \"seed\": 31,\n",
    "        \"verbosity\": 0,\n",
    "        \"objective\":  trial.suggest_categorical(\"objective\", [\"binary:logistic\"]),\n",
    "        \"eval_metric\": \"auc\",\n",
    "        \"booster\": trial.suggest_categorical(\"booster\", [\"gbtree\"]),\n",
    "        \"lambda\": trial.suggest_float(\"lambda\", 1e-8, 1.0, log=True),\n",
    "        \"alpha\": trial.suggest_float(\"alpha\", 1e-8, 1.0, log=True),\n",
    "        \"max_depth\" : trial.suggest_int(\"max_depth\", 1, 9),\n",
    "        \"eta\" : trial.suggest_float(\"eta\", 1e-8, 1.0, log=True),\n",
    "        \"gamma\" : trial.suggest_float(\"gamma\", 1e-8, 1.0, log=True),\n",
    "        \"grow_policy\" : trial.suggest_categorical(\"grow_policy\", [\"depthwise\", \"lossguide\"])\n",
    "    }\n",
    "\n",
    "\n",
    "    # Add a callback for pruning.\n",
    "    pruning_callback = optuna.integration.XGBoostPruningCallback(trial, \"validation-auc\")\n",
    "\n",
    "    bst = xgb.train(param, dtrain, evals=[(dvalid, \"validation\")], callbacks=[pruning_callback])\n",
    "    preds = bst.predict(dvalid)\n",
    "    pred_labels = np.rint(preds)\n",
    "    auc = sklearn.metrics.roc_auc_score(valid_y, pred_labels)\n",
    "\n",
    "    return auc\n",
    "\n",
    "\n",
    "if __name__ == \"__main__\":\n",
    "    study = optuna.create_study(\n",
    "        pruner=optuna.pruners.MedianPruner(n_warmup_steps=5), direction=\"maximize\", sampler = TPESampler(seed=31)\n",
    "    )\n",
    "    study.optimize(objective, n_trials=100)\n",
    "    print(\"Number of finished trials: {}\".format(len(study.trials)))\n",
    "\n",
    "    print(\"Best trial:\")\n",
    "    trial = study.best_trial\n",
    "\n",
    "    print(\"  Value: {}\".format(trial.value))\n",
    "\n",
    "    print(\"  Params: \")\n",
    "    for key, value in trial.params.items():\n",
    "        print(\"    {}: {}\".format(key, value))\n",
    "\n",
    "    xgb_params = {}\n",
    "\n",
    "    for key, value in trial.params.items():\n",
    "        xgb_params[key] = value"
   ]
  },
  {
   "cell_type": "code",
   "execution_count": null,
   "metadata": {
    "colab": {
     "base_uri": "https://localhost:8080/"
    },
    "executionInfo": {
     "elapsed": 21,
     "status": "ok",
     "timestamp": 1689268938464,
     "user": {
      "displayName": "Mert Karabacak",
      "userId": "14308977132914475412"
     },
     "user_tz": 240
    },
    "id": "algcmJCqkAya",
    "outputId": "d3ae0cc6-4084-485e-9e38-10082e5ec0e3"
   },
   "outputs": [],
   "source": [
    "#See XGBoost hyperparameters.\n",
    "\n",
    "xgb_params['eval_metric'] = 'auc'\n",
    "xgb_params['verbosity'] = 0\n",
    "xgb_params['seed'] = 31\n",
    "\n",
    "print(xgb_params)"
   ]
  },
  {
   "cell_type": "code",
   "execution_count": null,
   "metadata": {
    "colab": {
     "base_uri": "https://localhost:8080/",
     "height": 244
    },
    "executionInfo": {
     "elapsed": 839,
     "status": "ok",
     "timestamp": 1689268939296,
     "user": {
      "displayName": "Mert Karabacak",
      "userId": "14308977132914475412"
     },
     "user_tz": 240
    },
    "id": "uZk8hbTUIQPg",
    "outputId": "96a79c40-c555-4a65-ad7a-840e493f9d84"
   },
   "outputs": [],
   "source": [
    "#Fit XGBoost.\n",
    "\n",
    "from xgboost import XGBClassifier\n",
    "\n",
    "xgb = XGBClassifier(**xgb_params)\n",
    "\n",
    "xgb.fit(train_x, train_y)"
   ]
  },
  {
   "cell_type": "code",
   "execution_count": null,
   "metadata": {
    "colab": {
     "base_uri": "https://localhost:8080/",
     "height": 74
    },
    "executionInfo": {
     "elapsed": 91,
     "status": "ok",
     "timestamp": 1689268939296,
     "user": {
      "displayName": "Mert Karabacak",
      "userId": "14308977132914475412"
     },
     "user_tz": 240
    },
    "id": "rUf-OtCoIQPg",
    "outputId": "5f3bad60-4004-4c7d-b99d-253ae534ce95"
   },
   "outputs": [],
   "source": [
    "#Predict on the validation set, get predicted probabilities for calibration, and fit calibration function.\n",
    "\n",
    "calib_probs_xgb = xgb.predict_proba(valid_x)\n",
    "\n",
    "calib_model_xgb = LogisticRegression()\n",
    "calib_model_xgb.fit(calib_probs_xgb, valid_y)"
   ]
  },
  {
   "cell_type": "code",
   "execution_count": null,
   "metadata": {
    "colab": {
     "base_uri": "https://localhost:8080/"
    },
    "executionInfo": {
     "elapsed": 89,
     "status": "ok",
     "timestamp": 1689268939297,
     "user": {
      "displayName": "Mert Karabacak",
      "userId": "14308977132914475412"
     },
     "user_tz": 240
    },
    "id": "wq-OU3c29-4L",
    "outputId": "924e7f0f-888b-4beb-dec3-762df316a972"
   },
   "outputs": [],
   "source": [
    "#Make predictions on the test set based on the trained and calibrated XGBoost model.\n",
    "\n",
    "preds_xgb = xgb.predict(x_test)\n",
    "\n",
    "uncalibrated_probs_xgb = xgb.predict_proba(x_test)\n",
    "\n",
    "probs_xgb = calib_model_xgb.predict_proba(uncalibrated_probs_xgb)\n",
    "probs_xgb = probs_xgb[:, 1]"
   ]
  },
  {
   "cell_type": "code",
   "execution_count": null,
   "metadata": {
    "colab": {
     "base_uri": "https://localhost:8080/"
    },
    "executionInfo": {
     "elapsed": 2478,
     "status": "ok",
     "timestamp": 1689268941690,
     "user": {
      "displayName": "Mert Karabacak",
      "userId": "14308977132914475412"
     },
     "user_tz": 240
    },
    "id": "5m3AkfQJIQPg",
    "outputId": "13fa43c4-4d7c-4519-cf4d-dc9a291ab11c"
   },
   "outputs": [],
   "source": [
    "#Evaluate XGBoost model.\n",
    "\n",
    "xgb_precision = round(precision_score(y_test, preds_xgb, average = 'weighted'), 3)\n",
    "xgb_precision_ci_length = z_value * np.sqrt((xgb_precision * (1 - xgb_precision)) / y_test.shape[0])\n",
    "xgb_precision_ci_lower = round((xgb_precision - xgb_precision_ci_length), 3)\n",
    "xgb_precision_ci_upper = round((xgb_precision + xgb_precision_ci_length), 3)\n",
    "xgb_precision_str = str(xgb_precision) + ' (' + str(xgb_precision_ci_lower) + ' - ' + str(xgb_precision_ci_upper) + ')'\n",
    "\n",
    "xgb_recall = round(recall_score(y_test, preds_xgb, average = 'weighted'), 3)\n",
    "xgb_recall_ci_length = z_value * np.sqrt((xgb_recall * (1 - xgb_recall)) / y_test.shape[0])\n",
    "xgb_recall_ci_lower = round((xgb_recall - xgb_recall_ci_length), 3)\n",
    "xgb_recall_ci_upper = round((xgb_recall + xgb_recall_ci_length), 3)\n",
    "xgb_recall_str = str(xgb_recall) + ' (' + str(xgb_recall_ci_lower) + ' - ' + str(xgb_recall_ci_upper) + ')'\n",
    "\n",
    "xgb_auprc = round(average_precision_score(y_test, probs_xgb, average = 'weighted'), 3)\n",
    "xgb_auprc_ci_length = z_value * np.sqrt((xgb_auprc * (1 - xgb_auprc)) / y_test.shape[0])\n",
    "xgb_auprc_ci_lower = round((xgb_auprc - xgb_auprc_ci_length), 3)\n",
    "xgb_auprc_ci_upper = round((xgb_auprc + xgb_auprc_ci_length), 3)\n",
    "xgb_auprc_str = str(xgb_auprc) + ' (' + str(xgb_auprc_ci_lower) + ' - ' + str(xgb_auprc_ci_upper) + ')'\n",
    "\n",
    "xgb_accuracy = round(balanced_accuracy_score(y_test, preds_xgb), 3)\n",
    "xgb_accuracy_ci_length = z_value * np.sqrt((xgb_accuracy * (1 - xgb_accuracy)) / y_test.shape[0])\n",
    "xgb_accuracy_ci_lower = round((xgb_accuracy - xgb_accuracy_ci_length), 3)\n",
    "xgb_accuracy_ci_upper = round((xgb_accuracy + xgb_accuracy_ci_length), 3)\n",
    "xgb_accuracy_str = str(xgb_accuracy) + ' (' + str(xgb_accuracy_ci_lower) + ' - ' + str(xgb_accuracy_ci_upper) + ')'\n",
    "\n",
    "xgb_auroc, xgb_auroc_ci_lower, xgb_auroc_ci_upper = auroc_ci(y_test, probs_xgb)\n",
    "xgb_auroc = round(xgb_auroc, 3)\n",
    "xgb_auroc_ci_lower = round(xgb_auroc_ci_lower, 3)\n",
    "xgb_auroc_ci_upper = round(xgb_auroc_ci_upper, 3)\n",
    "xgb_auroc_str = str(xgb_auroc) + ' (' + str(xgb_auroc_ci_lower) + ' - ' + str(xgb_auroc_ci_upper) + ')'\n",
    "\n",
    "xgb_brier = round(brier_score_loss(y_test, probs_xgb), 3)\n",
    "xgb_brier_ci_length = z_value * np.sqrt((xgb_brier * (1 - xgb_brier)) / y_test.shape[0])\n",
    "xgb_brier_ci_lower = round((xgb_brier - xgb_brier_ci_length), 3)\n",
    "xgb_brier_ci_upper = round((xgb_brier + xgb_brier_ci_length), 3)\n",
    "xgb_brier_str = str(xgb_brier) + ' (' + str(xgb_brier_ci_lower) + ' - ' + str(xgb_brier_ci_upper) + ')'\n",
    "\n",
    "xgb_results = [xgb_precision_str, xgb_recall_str, xgb_auprc_str, xgb_accuracy_str, xgb_auroc_str, xgb_brier_str]\n",
    "\n",
    "print(\"Precision: \", (xgb_precision_str))\n",
    "print(\"Recall: \", (xgb_recall_str))\n",
    "print('AUPRC: ', (xgb_auprc_str))\n",
    "print('Accuracy: ', (xgb_accuracy_str))\n",
    "print('AUROC: ', (xgb_auroc_str))\n",
    "print('Brier Score: ', (xgb_brier_str))"
   ]
  },
  {
   "cell_type": "code",
   "execution_count": null,
   "metadata": {
    "colab": {
     "base_uri": "https://localhost:8080/"
    },
    "executionInfo": {
     "elapsed": 23,
     "status": "ok",
     "timestamp": 1689268941692,
     "user": {
      "displayName": "Mert Karabacak",
      "userId": "14308977132914475412"
     },
     "user_tz": 240
    },
    "id": "Ch-wpxcQIQPg",
    "outputId": "0e863b3a-0ee1-4b4b-f49d-a987f93f44e0"
   },
   "outputs": [],
   "source": [
    "#Recalculate precision recall curve for plotting purposes.\n",
    "\n",
    "xgb_precision_curve, xgb_recall_curve, _ = precision_recall_curve(y_test, probs_xgb)"
   ]
  },
  {
   "cell_type": "markdown",
   "metadata": {
    "id": "9VszU3k5IQPh"
   },
   "source": [
    "# LightGBM"
   ]
  },
  {
   "cell_type": "code",
   "execution_count": null,
   "metadata": {
    "colab": {
     "base_uri": "https://localhost:8080/"
    },
    "executionInfo": {
     "elapsed": 71821,
     "status": "ok",
     "timestamp": 1689269013497,
     "user": {
      "displayName": "Mert Karabacak",
      "userId": "14308977132914475412"
     },
     "user_tz": 240
    },
    "id": "oR81p9HpIQPh",
    "outputId": "5ffd5011-221d-4532-8d03-46c819c71767"
   },
   "outputs": [],
   "source": [
    "#Hyperparameter tuning for LightGBM.\n",
    "\n",
    "def objective(trial):\n",
    "    dtrain = lgb.Dataset(train_x, label=train_y)\n",
    "\n",
    "    param = {\n",
    "        \"objective\":  trial.suggest_categorical(\"objective\", [\"binary\"]),\n",
    "        \"metric\": \"binary_logloss\",\n",
    "        \"verbosity\": -1,\n",
    "        \"random_state\": 31,\n",
    "        \"boosting_type\":  trial.suggest_categorical(\"boosting_type\", [\"gbdt\"]),\n",
    "        \"lambda_l1\": trial.suggest_float(\"lambda_l1\", 1e-8, 10.0, log=True),\n",
    "        \"lambda_l2\": trial.suggest_float(\"lambda_l2\", 1e-8, 10.0, log=True),\n",
    "        \"num_leaves\": trial.suggest_int(\"num_leaves\", 2, 256),\n",
    "        \"feature_fraction\": trial.suggest_float(\"feature_fraction\", 0.4, 1.0),\n",
    "        \"bagging_fraction\": trial.suggest_float(\"bagging_fraction\", 0.4, 1.0),\n",
    "        \"bagging_freq\": trial.suggest_int(\"bagging_freq\", 1, 7),\n",
    "        \"min_child_samples\": trial.suggest_int(\"min_child_samples\", 5, 100),\n",
    "    }\n",
    "\n",
    "    gbm = lgb.train(param, dtrain)\n",
    "    preds = gbm.predict(valid_x)\n",
    "    pred_labels = np.rint(preds)\n",
    "    auc = sklearn.metrics.roc_auc_score(valid_y, pred_labels)\n",
    "    return auc\n",
    "\n",
    "\n",
    "if __name__ == \"__main__\":\n",
    "    study = optuna.create_study(direction=\"maximize\", sampler = TPESampler(seed=31))\n",
    "    study.optimize(objective, n_trials=100)\n",
    "\n",
    "    print(\"Number of finished trials: {}\".format(len(study.trials)))\n",
    "\n",
    "    print(\"Best trial:\")\n",
    "    trial = study.best_trial\n",
    "\n",
    "    print(\"  Value: {}\".format(trial.value))\n",
    "\n",
    "    print(\"  Params: \")\n",
    "    for key, value in trial.params.items():\n",
    "        print(\"    {}: {}\".format(key, value))\n",
    "\n",
    "    lgb_params = {}\n",
    "\n",
    "    for key, value in trial.params.items():\n",
    "        lgb_params[key] = value"
   ]
  },
  {
   "cell_type": "code",
   "execution_count": null,
   "metadata": {
    "colab": {
     "base_uri": "https://localhost:8080/"
    },
    "executionInfo": {
     "elapsed": 57,
     "status": "ok",
     "timestamp": 1689269013499,
     "user": {
      "displayName": "Mert Karabacak",
      "userId": "14308977132914475412"
     },
     "user_tz": 240
    },
    "id": "h7P7Mw7UkC-y",
    "outputId": "499851cf-bbec-4cd4-9683-a784eb8f2df1"
   },
   "outputs": [],
   "source": [
    "#See LightGBM hyperparameters.\n",
    "\n",
    "lgb_params['metric'] = 'binary_logloss'\n",
    "lgb_params['verbosity'] = -1\n",
    "lgb_params['random_state'] = 31\n",
    "\n",
    "print(lgb_params)"
   ]
  },
  {
   "cell_type": "code",
   "execution_count": null,
   "metadata": {
    "colab": {
     "base_uri": "https://localhost:8080/",
     "height": 264
    },
    "executionInfo": {
     "elapsed": 1015,
     "status": "ok",
     "timestamp": 1689269014498,
     "user": {
      "displayName": "Mert Karabacak",
      "userId": "14308977132914475412"
     },
     "user_tz": 240
    },
    "id": "UAidUSs1IQPh",
    "outputId": "c262b31e-65d7-4c32-ce04-410ddce4f1c9"
   },
   "outputs": [],
   "source": [
    "#Fit LightGBM.\n",
    "\n",
    "import lightgbm as lgb\n",
    "\n",
    "lgb = lgb.LGBMClassifier(**lgb_params)\n",
    "\n",
    "lgb.fit(train_x, train_y)"
   ]
  },
  {
   "cell_type": "code",
   "execution_count": null,
   "metadata": {
    "colab": {
     "base_uri": "https://localhost:8080/",
     "height": 111
    },
    "executionInfo": {
     "elapsed": 94,
     "status": "ok",
     "timestamp": 1689269014499,
     "user": {
      "displayName": "Mert Karabacak",
      "userId": "14308977132914475412"
     },
     "user_tz": 240
    },
    "id": "JlKe1z0RIQPh",
    "outputId": "7c49911f-9476-4804-a842-e96b45c64279"
   },
   "outputs": [],
   "source": [
    "#Predict on the validation set, get predicted probabilities for calibration, and fit calibration function.\n",
    "\n",
    "calib_probs_lgb = lgb.predict_proba(valid_x)\n",
    "\n",
    "calib_model_lgb = LogisticRegression()\n",
    "calib_model_lgb.fit(calib_probs_lgb, valid_y)"
   ]
  },
  {
   "cell_type": "code",
   "execution_count": null,
   "metadata": {
    "colab": {
     "base_uri": "https://localhost:8080/"
    },
    "executionInfo": {
     "elapsed": 90,
     "status": "ok",
     "timestamp": 1689269014499,
     "user": {
      "displayName": "Mert Karabacak",
      "userId": "14308977132914475412"
     },
     "user_tz": 240
    },
    "id": "mPyYlwGX-HkZ",
    "outputId": "83db755f-2563-4e43-8e50-e1def7a2587f"
   },
   "outputs": [],
   "source": [
    "#Make predictions on the test set based on the trained and calibrated LightGBM model.\n",
    "\n",
    "preds_lgb = lgb.predict(x_test)\n",
    "\n",
    "uncalibrated_probs_lgb = lgb.predict_proba(x_test)\n",
    "uncalibrated_probs_lgb = uncalibrated_probs_lgb\n",
    "\n",
    "probs_lgb = calib_model_xgb.predict_proba(uncalibrated_probs_lgb)\n",
    "probs_lgb = probs_lgb[:, 1]"
   ]
  },
  {
   "cell_type": "code",
   "execution_count": null,
   "metadata": {
    "colab": {
     "base_uri": "https://localhost:8080/"
    },
    "executionInfo": {
     "elapsed": 2144,
     "status": "ok",
     "timestamp": 1689269016557,
     "user": {
      "displayName": "Mert Karabacak",
      "userId": "14308977132914475412"
     },
     "user_tz": 240
    },
    "id": "r259oDdIIQPi",
    "outputId": "668451e3-91e2-46a2-c45b-8fea8810f884"
   },
   "outputs": [],
   "source": [
    "#Evaluate LightGBM model.\n",
    "\n",
    "lgb_precision = round(precision_score(y_test, preds_lgb, average = 'weighted'), 3)\n",
    "lgb_precision_ci_length = z_value * np.sqrt((lgb_precision * (1 - lgb_precision)) / y_test.shape[0])\n",
    "lgb_precision_ci_lower = round((lgb_precision - lgb_precision_ci_length), 3)\n",
    "lgb_precision_ci_upper = round((lgb_precision + lgb_precision_ci_length), 3)\n",
    "lgb_precision_str = str(lgb_precision) + ' (' + str(lgb_precision_ci_lower) + ' - ' + str(lgb_precision_ci_upper) + ')'\n",
    "\n",
    "lgb_recall = round(recall_score(y_test, preds_lgb, average = 'weighted'), 3)\n",
    "lgb_recall_ci_length = z_value * np.sqrt((lgb_recall * (1 - lgb_recall)) / y_test.shape[0])\n",
    "lgb_recall_ci_lower = round((lgb_recall - lgb_recall_ci_length), 3)\n",
    "lgb_recall_ci_upper = round((lgb_recall + lgb_recall_ci_length), 3)\n",
    "lgb_recall_str = str(lgb_recall) + ' (' + str(lgb_recall_ci_lower) + ' - ' + str(lgb_recall_ci_upper) + ')'\n",
    "\n",
    "lgb_auprc = round(average_precision_score(y_test, probs_lgb, average = 'weighted'), 3)\n",
    "lgb_auprc_ci_length = z_value * np.sqrt((lgb_auprc * (1 - lgb_auprc)) / y_test.shape[0])\n",
    "lgb_auprc_ci_lower = round((lgb_auprc - lgb_auprc_ci_length), 3)\n",
    "lgb_auprc_ci_upper = round((lgb_auprc + lgb_auprc_ci_length), 3)\n",
    "lgb_auprc_str = str(lgb_auprc) + ' (' + str(lgb_auprc_ci_lower) + ' - ' + str(lgb_auprc_ci_upper) + ')'\n",
    "\n",
    "lgb_accuracy = round(balanced_accuracy_score(y_test, preds_lgb), 3)\n",
    "lgb_accuracy_ci_length = z_value * np.sqrt((lgb_accuracy * (1 - lgb_accuracy)) / y_test.shape[0])\n",
    "lgb_accuracy_ci_lower = round((lgb_accuracy - lgb_accuracy_ci_length), 3)\n",
    "lgb_accuracy_ci_upper = round((lgb_accuracy + lgb_accuracy_ci_length), 3)\n",
    "lgb_accuracy_str = str(lgb_accuracy) + ' (' + str(lgb_accuracy_ci_lower) + ' - ' + str(lgb_accuracy_ci_upper) + ')'\n",
    "\n",
    "lgb_auroc, lgb_auroc_ci_lower, lgb_auroc_ci_upper = auroc_ci(y_test, probs_lgb)\n",
    "lgb_auroc = round(lgb_auroc, 3)\n",
    "lgb_auroc_ci_lower = round(lgb_auroc_ci_lower, 3)\n",
    "lgb_auroc_ci_upper = round(lgb_auroc_ci_upper, 3)\n",
    "lgb_auroc_str = str(lgb_auroc) + ' (' + str(lgb_auroc_ci_lower) + ' - ' + str(lgb_auroc_ci_upper) + ')'\n",
    "\n",
    "lgb_brier = round(brier_score_loss(y_test, probs_lgb), 3)\n",
    "lgb_brier_ci_length = z_value * np.sqrt((lgb_brier * (1 - lgb_brier)) / y_test.shape[0])\n",
    "lgb_brier_ci_lower = round((lgb_brier - lgb_brier_ci_length), 3)\n",
    "lgb_brier_ci_upper = round((lgb_brier + lgb_brier_ci_length), 3)\n",
    "lgb_brier_str = str(lgb_brier) + ' (' + str(lgb_brier_ci_lower) + ' - ' + str(lgb_brier_ci_upper) + ')'\n",
    "\n",
    "lgb_results = [lgb_precision_str, lgb_recall_str, lgb_auprc_str, lgb_accuracy_str, lgb_auroc_str, lgb_brier_str]\n",
    "\n",
    "print(\"Precision: \", (lgb_precision_str))\n",
    "print(\"Recall: \", (lgb_recall_str))\n",
    "print('AUPRC: ', (lgb_auprc_str))\n",
    "print('Accuracy: ', (lgb_accuracy_str))\n",
    "print('AUROC: ', (lgb_auroc_str))\n",
    "print('Brier Score: ', (lgb_brier_str))"
   ]
  },
  {
   "cell_type": "code",
   "execution_count": null,
   "metadata": {
    "colab": {
     "base_uri": "https://localhost:8080/"
    },
    "executionInfo": {
     "elapsed": 39,
     "status": "ok",
     "timestamp": 1689269016558,
     "user": {
      "displayName": "Mert Karabacak",
      "userId": "14308977132914475412"
     },
     "user_tz": 240
    },
    "id": "PXzXI9O-IQPi",
    "outputId": "823f1835-b9b1-4e4f-c241-fdc610698f07"
   },
   "outputs": [],
   "source": [
    "#Recalculate precision recall curve for plotting purposes.\n",
    "\n",
    "lgb_precision_curve, lgb_recall_curve, _ = precision_recall_curve(y_test, probs_lgb)"
   ]
  },
  {
   "cell_type": "markdown",
   "metadata": {
    "id": "mQRRrBp-IQPk"
   },
   "source": [
    "# Random Forest"
   ]
  },
  {
   "cell_type": "code",
   "execution_count": null,
   "metadata": {
    "colab": {
     "base_uri": "https://localhost:8080/"
    },
    "executionInfo": {
     "elapsed": 643358,
     "status": "ok",
     "timestamp": 1689269659888,
     "user": {
      "displayName": "Mert Karabacak",
      "userId": "14308977132914475412"
     },
     "user_tz": 240
    },
    "id": "kFTmQMQxIQPk",
    "outputId": "435dc89c-286d-434f-e4f7-4880297a5f7f"
   },
   "outputs": [],
   "source": [
    "#Hyperparameter tuning for Random Forest.\n",
    "\n",
    "def objective(trial):\n",
    "\n",
    "    param = {\n",
    "        \"criterion\": trial.suggest_categorical(\"criterion\", [\"gini\", \"entropy\"]),\n",
    "        \"random_state\": 31,\n",
    "        \"max_features\": trial.suggest_categorical(\"max_features\", [\"auto\", \"sqrt\",\"log2\", None]),\n",
    "        \"max_depth\": trial.suggest_int(\"max_depth\", 1, 100),\n",
    "        \"n_estimators\": trial.suggest_int(\"n_estimators\", 100, 2000, 100),\n",
    "        \"min_samples_leaf\": trial.suggest_int(\"min_samples_leaf\", 1, 4, 1),\n",
    "        \"min_samples_split\": trial.suggest_int(\"min_samples_split\", 2, 10, 1),\n",
    "    }\n",
    "\n",
    "    rf = RandomForestClassifier(**param)\n",
    "\n",
    "    rf.fit(\n",
    "        train_x,\n",
    "        train_y,\n",
    "    )\n",
    "\n",
    "    preds = rf.predict(valid_x)\n",
    "    pred_labels = np.rint(preds)\n",
    "    auc = sklearn.metrics.roc_auc_score(valid_y, pred_labels)\n",
    "\n",
    "    return auc\n",
    "\n",
    "\n",
    "if __name__ == \"__main__\":\n",
    "    study = optuna.create_study(direction='maximize', sampler = TPESampler(seed=31))\n",
    "    study.optimize(objective, n_trials=100, timeout=600)\n",
    "\n",
    "    print(\"Number of finished trials: {}\".format(len(study.trials)))\n",
    "\n",
    "    print(\"Best trial:\")\n",
    "    trial = study.best_trial\n",
    "\n",
    "    print(\"  Value: {}\".format(trial.value))\n",
    "\n",
    "    print(\"  Params: \")\n",
    "    for key, value in trial.params.items():\n",
    "        print(\"    {}: {}\".format(key, value))\n",
    "\n",
    "    rf_params = {}\n",
    "\n",
    "    for key, value in trial.params.items():\n",
    "        rf_params[key] = value"
   ]
  },
  {
   "cell_type": "code",
   "execution_count": null,
   "metadata": {
    "colab": {
     "base_uri": "https://localhost:8080/"
    },
    "executionInfo": {
     "elapsed": 23,
     "status": "ok",
     "timestamp": 1689269659889,
     "user": {
      "displayName": "Mert Karabacak",
      "userId": "14308977132914475412"
     },
     "user_tz": 240
    },
    "id": "yTqnQTzgkG3R",
    "outputId": "1c27792e-0f77-42f0-886f-954a0a0c1161"
   },
   "outputs": [],
   "source": [
    "#See Random Forest hyperparameters.\n",
    "\n",
    "rf_params['random_state'] = 31\n",
    "\n",
    "print(rf_params)"
   ]
  },
  {
   "cell_type": "code",
   "execution_count": null,
   "metadata": {
    "colab": {
     "base_uri": "https://localhost:8080/",
     "height": 91
    },
    "executionInfo": {
     "elapsed": 46559,
     "status": "ok",
     "timestamp": 1689269706438,
     "user": {
      "displayName": "Mert Karabacak",
      "userId": "14308977132914475412"
     },
     "user_tz": 240
    },
    "id": "o2nnbDAsIQPk",
    "outputId": "581d78ad-f0de-4692-94b7-2f4f8df0549f"
   },
   "outputs": [],
   "source": [
    "#Fit Random Forest.\n",
    "\n",
    "from sklearn.ensemble import RandomForestClassifier\n",
    "\n",
    "rf = RandomForestClassifier(**rf_params)\n",
    "\n",
    "rf.fit(train_x, train_y)"
   ]
  },
  {
   "cell_type": "code",
   "execution_count": null,
   "metadata": {
    "colab": {
     "base_uri": "https://localhost:8080/",
     "height": 111
    },
    "executionInfo": {
     "elapsed": 284,
     "status": "ok",
     "timestamp": 1689269706710,
     "user": {
      "displayName": "Mert Karabacak",
      "userId": "14308977132914475412"
     },
     "user_tz": 240
    },
    "id": "pSsBliFuIQPk",
    "outputId": "345c9a14-c6b0-46f7-ab69-da7d1a248649"
   },
   "outputs": [],
   "source": [
    "#Predict on the validation set, get predicted probabilities for calibration, and fit calibration function.\n",
    "\n",
    "calib_probs_rf = rf.predict_proba(valid_x)\n",
    "\n",
    "calib_model_rf = LogisticRegression()\n",
    "calib_model_rf.fit(calib_probs_rf, valid_y)"
   ]
  },
  {
   "cell_type": "code",
   "execution_count": null,
   "metadata": {
    "colab": {
     "base_uri": "https://localhost:8080/"
    },
    "executionInfo": {
     "elapsed": 224,
     "status": "ok",
     "timestamp": 1689269706841,
     "user": {
      "displayName": "Mert Karabacak",
      "userId": "14308977132914475412"
     },
     "user_tz": 240
    },
    "id": "o3Ru1zLF-YER",
    "outputId": "5dd1695a-0f62-4a88-ff88-5b28fe816a5c"
   },
   "outputs": [],
   "source": [
    "#Make predictions on the test set based on the trained Random Forest model.\n",
    "\n",
    "preds_rf = rf.predict(x_test)\n",
    "\n",
    "uncalibrated_probs_rf = rf.predict_proba(x_test)\n",
    "\n",
    "probs_rf = calib_model_rf.predict_proba(uncalibrated_probs_rf)\n",
    "probs_rf = probs_rf[:, 1]"
   ]
  },
  {
   "cell_type": "code",
   "execution_count": null,
   "metadata": {
    "colab": {
     "base_uri": "https://localhost:8080/"
    },
    "executionInfo": {
     "elapsed": 2171,
     "status": "ok",
     "timestamp": 1689269709009,
     "user": {
      "displayName": "Mert Karabacak",
      "userId": "14308977132914475412"
     },
     "user_tz": 240
    },
    "id": "haQcIGjoIQPk",
    "outputId": "176c389f-536d-4f6e-8b02-c644ccbaba89"
   },
   "outputs": [],
   "source": [
    "#Evaluate Random Forest model.\n",
    "\n",
    "rf_precision = round(precision_score(y_test, preds_rf, average = 'weighted'), 3)\n",
    "rf_precision_ci_length = z_value * np.sqrt((rf_precision * (1 - rf_precision)) / y_test.shape[0])\n",
    "rf_precision_ci_lower = round((rf_precision - rf_precision_ci_length), 3)\n",
    "rf_precision_ci_upper = round((rf_precision + rf_precision_ci_length), 3)\n",
    "rf_precision_str = str(rf_precision) + ' (' + str(rf_precision_ci_lower) + ' - ' + str(rf_precision_ci_upper) + ')'\n",
    "\n",
    "rf_recall = round(recall_score(y_test, preds_rf, average = 'weighted'), 3)\n",
    "rf_recall_ci_length = z_value * np.sqrt((rf_recall * (1 - rf_recall)) / y_test.shape[0])\n",
    "rf_recall_ci_lower = round((rf_recall - rf_recall_ci_length), 3)\n",
    "rf_recall_ci_upper = round((rf_recall + rf_recall_ci_length), 3)\n",
    "rf_recall_str = str(rf_recall) + ' (' + str(rf_recall_ci_lower) + ' - ' + str(rf_recall_ci_upper) + ')'\n",
    "\n",
    "rf_auprc = round(average_precision_score(y_test, probs_rf, average = 'weighted'), 3)\n",
    "rf_auprc_ci_length = z_value * np.sqrt((rf_auprc * (1 - rf_auprc)) / y_test.shape[0])\n",
    "rf_auprc_ci_lower = round((rf_auprc - rf_auprc_ci_length), 3)\n",
    "rf_auprc_ci_upper = round((rf_auprc + rf_auprc_ci_length), 3)\n",
    "rf_auprc_str = str(rf_auprc) + ' (' + str(rf_auprc_ci_lower) + ' - ' + str(rf_auprc_ci_upper) + ')'\n",
    "\n",
    "rf_accuracy = round(balanced_accuracy_score(y_test, preds_rf), 3)\n",
    "rf_accuracy_ci_length = z_value * np.sqrt((rf_accuracy * (1 - rf_accuracy)) / y_test.shape[0])\n",
    "rf_accuracy_ci_lower = round((rf_accuracy - rf_accuracy_ci_length), 3)\n",
    "rf_accuracy_ci_upper = round((rf_accuracy + rf_accuracy_ci_length), 3)\n",
    "rf_accuracy_str = str(rf_accuracy) + ' (' + str(rf_accuracy_ci_lower) + ' - ' + str(rf_accuracy_ci_upper) + ')'\n",
    "\n",
    "rf_auroc, rf_auroc_ci_lower, rf_auroc_ci_upper = auroc_ci(y_test, probs_rf)\n",
    "rf_auroc = round(rf_auroc, 3)\n",
    "rf_auroc_ci_lower = round(rf_auroc_ci_lower, 3)\n",
    "rf_auroc_ci_upper = round(rf_auroc_ci_upper, 3)\n",
    "rf_auroc_str = str(rf_auroc) + ' (' + str(rf_auroc_ci_lower) + ' - ' + str(rf_auroc_ci_upper) + ')'\n",
    "\n",
    "rf_brier = round(brier_score_loss(y_test, probs_rf), 3)\n",
    "rf_brier_ci_length = z_value * np.sqrt((rf_brier * (1 - rf_brier)) / y_test.shape[0])\n",
    "rf_brier_ci_lower = round((rf_brier - rf_brier_ci_length), 3)\n",
    "rf_brier_ci_upper = round((rf_brier + rf_brier_ci_length), 3)\n",
    "rf_brier_str = str(rf_brier) + ' (' + str(rf_brier_ci_lower) + ' - ' + str(rf_brier_ci_upper) + ')'\n",
    "\n",
    "rf_results = [rf_precision_str, rf_recall_str, rf_auprc_str, rf_accuracy_str, rf_auroc_str, rf_brier_str]\n",
    "\n",
    "print(\"Precision: \", (rf_precision_str))\n",
    "print(\"Recall: \", (rf_recall_str))\n",
    "print('AUPRC: ', (rf_auprc_str))\n",
    "print('Accuracy: ', (rf_accuracy_str))\n",
    "print('AUROC: ', (rf_auroc_str))\n",
    "print('Brier Score: ', (rf_brier_str))"
   ]
  },
  {
   "cell_type": "code",
   "execution_count": null,
   "metadata": {
    "colab": {
     "base_uri": "https://localhost:8080/"
    },
    "executionInfo": {
     "elapsed": 40,
     "status": "ok",
     "timestamp": 1689269709011,
     "user": {
      "displayName": "Mert Karabacak",
      "userId": "14308977132914475412"
     },
     "user_tz": 240
    },
    "id": "Drrp3KEQIQPk",
    "outputId": "3ebf5278-ee03-4480-e9d8-40a988dc7410"
   },
   "outputs": [],
   "source": [
    "#Recalculate precision recall curve for plotting purposes.\n",
    "\n",
    "rf_precision_curve, rf_recall_curve, _ = precision_recall_curve(y_test, probs_rf)"
   ]
  },
  {
   "cell_type": "markdown",
   "metadata": {
    "id": "pypALF20IQPi"
   },
   "source": [
    "# Logistic Regression"
   ]
  },
  {
   "cell_type": "code",
   "execution_count": null,
   "metadata": {
    "colab": {
     "base_uri": "https://localhost:8080/"
    },
    "executionInfo": {
     "elapsed": 173647,
     "status": "ok",
     "timestamp": 1689269882629,
     "user": {
      "displayName": "Mert Karabacak",
      "userId": "14308977132914475412"
     },
     "user_tz": 240
    },
    "id": "qX254OCwIQPj",
    "outputId": "a7be91c9-065d-473c-9587-8e4763a4ba3a"
   },
   "outputs": [],
   "source": [
    "# Hyperparameter tuning for Logistic Regression.\n",
    "\n",
    "def objective(trial):\n",
    "\n",
    "    param = {\n",
    "        \"penalty\": trial.suggest_categorical(\"penalty\", [\"l2\"]),\n",
    "        \"C\": trial.suggest_float(\"C\", 1e-4, 1e4, log=True),\n",
    "        \"fit_intercept\": trial.suggest_categorical(\"fit_intercept\", [True, False]),\n",
    "        \"solver\": trial.suggest_categorical(\"solver\", [\"newton-cg\", \"lbfgs\", \"liblinear\", \"sag\", \"saga\"]),\n",
    "        \"max_iter\": trial.suggest_int(\"max_iter\", 100, 2000, 100),\n",
    "        \"random_state\": 31,\n",
    "    }\n",
    "\n",
    "    logreg = LogisticRegression(**param)\n",
    "\n",
    "    logreg.fit(\n",
    "        train_x,\n",
    "        train_y,\n",
    "    )\n",
    "\n",
    "    preds = logreg.predict(valid_x)\n",
    "    pred_labels = np.rint(preds)\n",
    "    auc = sklearn.metrics.roc_auc_score(valid_y, pred_labels)\n",
    "\n",
    "    return auc\n",
    "\n",
    "\n",
    "if __name__ == \"__main__\":\n",
    "    study = optuna.create_study(direction='maximize', sampler=TPESampler(seed=31))\n",
    "    study.optimize(objective, n_trials=100, timeout=600)\n",
    "\n",
    "    print(\"Number of finished trials: {}\".format(len(study.trials)))\n",
    "\n",
    "    print(\"Best trial:\")\n",
    "    trial = study.best_trial\n",
    "\n",
    "    print(\"  Value: {}\".format(trial.value))\n",
    "\n",
    "    print(\"  Params: \")\n",
    "    for key, value in trial.params.items():\n",
    "        print(\"    {}: {}\".format(key, value))\n",
    "\n",
    "    logreg_params = {}\n",
    "\n",
    "    for key, value in trial.params.items():\n",
    "        logreg_params[key] = value\n"
   ]
  },
  {
   "cell_type": "code",
   "execution_count": null,
   "metadata": {
    "colab": {
     "base_uri": "https://localhost:8080/"
    },
    "executionInfo": {
     "elapsed": 53,
     "status": "ok",
     "timestamp": 1689269882631,
     "user": {
      "displayName": "Mert Karabacak",
      "userId": "14308977132914475412"
     },
     "user_tz": 240
    },
    "id": "Zq4CNR4JkE0y",
    "outputId": "24aa5b17-d5bf-4e31-a853-06e42cfadba0"
   },
   "outputs": [],
   "source": [
    "#See Logistic Regression hyperparameters.\n",
    "\n",
    "logreg_params['random_state'] = 31\n",
    "\n",
    "print(logreg_params)"
   ]
  },
  {
   "cell_type": "code",
   "execution_count": null,
   "metadata": {
    "colab": {
     "base_uri": "https://localhost:8080/",
     "height": 91
    },
    "executionInfo": {
     "elapsed": 1754,
     "status": "ok",
     "timestamp": 1689269884369,
     "user": {
      "displayName": "Mert Karabacak",
      "userId": "14308977132914475412"
     },
     "user_tz": 240
    },
    "id": "Jk72VQghIQPj",
    "outputId": "50ef6225-b1e1-4078-c370-67a674596830"
   },
   "outputs": [],
   "source": [
    "#Fit Logistic Regression.\n",
    "\n",
    "from sklearn.linear_model import LogisticRegression\n",
    "\n",
    "logreg = LogisticRegression(**logreg_params)\n",
    "\n",
    "logreg.fit(train_x, train_y)"
   ]
  },
  {
   "cell_type": "code",
   "execution_count": null,
   "metadata": {
    "colab": {
     "base_uri": "https://localhost:8080/",
     "height": 111
    },
    "executionInfo": {
     "elapsed": 96,
     "status": "ok",
     "timestamp": 1689269884371,
     "user": {
      "displayName": "Mert Karabacak",
      "userId": "14308977132914475412"
     },
     "user_tz": 240
    },
    "id": "tKJn1U-RIQPj",
    "outputId": "beee5f63-4a00-47d7-eea0-434a5f005e6c"
   },
   "outputs": [],
   "source": [
    "#Predict on the validation set, get predicted probabilities for calibration, and fit calibration function.\n",
    "\n",
    "calib_probs_logreg = logreg.predict_proba(valid_x)\n",
    "\n",
    "calib_model_logreg = LogisticRegression()\n",
    "calib_model_logreg.fit(calib_probs_logreg, valid_y)"
   ]
  },
  {
   "cell_type": "code",
   "execution_count": null,
   "metadata": {
    "colab": {
     "base_uri": "https://localhost:8080/"
    },
    "executionInfo": {
     "elapsed": 92,
     "status": "ok",
     "timestamp": 1689269884371,
     "user": {
      "displayName": "Mert Karabacak",
      "userId": "14308977132914475412"
     },
     "user_tz": 240
    },
    "id": "-KSruYHE-QsT",
    "outputId": "3fbc961b-4e93-4d4a-9fe4-14573b3f9086"
   },
   "outputs": [],
   "source": [
    "#Make predictions on the test set based on the trained and calibrated Logistic Regression model.\n",
    "\n",
    "preds_logreg = logreg.predict(x_test)\n",
    "\n",
    "uncalibrated_probs_logreg = logreg.predict_proba(x_test)\n",
    "uncalibrated_probs_logreg = uncalibrated_probs_logreg\n",
    "\n",
    "probs_logreg = calib_model_logreg.predict_proba(uncalibrated_probs_logreg)\n",
    "probs_logreg = probs_logreg[:, 1]"
   ]
  },
  {
   "cell_type": "code",
   "execution_count": null,
   "metadata": {
    "colab": {
     "base_uri": "https://localhost:8080/"
    },
    "executionInfo": {
     "elapsed": 2246,
     "status": "ok",
     "timestamp": 1689269886530,
     "user": {
      "displayName": "Mert Karabacak",
      "userId": "14308977132914475412"
     },
     "user_tz": 240
    },
    "id": "PTi-oHuXIQPj",
    "outputId": "ece7678f-2aee-4fbd-a6ab-0114fee2df15"
   },
   "outputs": [],
   "source": [
    "#Evaluate Logistic Regression model.\n",
    "\n",
    "logreg_precision = round(precision_score(y_test, preds_logreg, average = 'weighted'), 3)\n",
    "logreg_precision_ci_length = z_value * np.sqrt((logreg_precision * (1 - logreg_precision)) / y_test.shape[0])\n",
    "logreg_precision_ci_lower = round((logreg_precision - logreg_precision_ci_length), 3)\n",
    "logreg_precision_ci_upper = round((logreg_precision + logreg_precision_ci_length), 3)\n",
    "logreg_precision_str = str(logreg_precision) + ' (' + str(logreg_precision_ci_lower) + ' - ' + str(logreg_precision_ci_upper) + ')'\n",
    "\n",
    "logreg_recall = round(recall_score(y_test, preds_logreg, average = 'weighted'), 3)\n",
    "logreg_recall_ci_length = z_value * np.sqrt((logreg_recall * (1 - logreg_recall)) / y_test.shape[0])\n",
    "logreg_recall_ci_lower = round((logreg_recall - logreg_recall_ci_length), 3)\n",
    "logreg_recall_ci_upper = round((logreg_recall + logreg_recall_ci_length), 3)\n",
    "logreg_recall_str = str(logreg_recall) + ' (' + str(logreg_recall_ci_lower) + ' - ' + str(logreg_recall_ci_upper) + ')'\n",
    "\n",
    "logreg_auprc = round(average_precision_score(y_test, preds_logreg, average = 'weighted'), 3)\n",
    "logreg_auprc_ci_length = z_value * np.sqrt((logreg_auprc * (1 - logreg_auprc)) / y_test.shape[0])\n",
    "logreg_auprc_ci_lower = round((logreg_auprc - logreg_auprc_ci_length), 3)\n",
    "logreg_auprc_ci_upper = round((logreg_auprc + logreg_auprc_ci_length), 3)\n",
    "logreg_auprc_str = str(logreg_auprc) + ' (' + str(logreg_auprc_ci_lower) + ' - ' + str(logreg_auprc_ci_upper) + ')'\n",
    "\n",
    "logreg_accuracy = round(balanced_accuracy_score(y_test, preds_logreg), 3)\n",
    "logreg_accuracy_ci_length = z_value * np.sqrt((logreg_accuracy * (1 - logreg_accuracy)) / y_test.shape[0])\n",
    "logreg_accuracy_ci_lower = round((logreg_accuracy - logreg_accuracy_ci_length), 3)\n",
    "logreg_accuracy_ci_upper = round((logreg_accuracy + logreg_accuracy_ci_length), 3)\n",
    "logreg_accuracy_str = str(logreg_accuracy) + ' (' + str(logreg_accuracy_ci_lower) + ' - ' + str(logreg_accuracy_ci_upper) + ')'\n",
    "\n",
    "logreg_auroc, logreg_auroc_ci_lower, logreg_auroc_ci_upper = auroc_ci(y_test, probs_logreg)\n",
    "logreg_auroc = round(logreg_auroc, 3)\n",
    "logreg_auroc_ci_lower = round(logreg_auroc_ci_lower, 3)\n",
    "logreg_auroc_ci_upper = round(logreg_auroc_ci_upper, 3)\n",
    "logreg_auroc_str = str(logreg_auroc) + ' (' + str(logreg_auroc_ci_lower) + ' - ' + str(logreg_auroc_ci_upper) + ')'\n",
    "\n",
    "logreg_brier = round(brier_score_loss(y_test, probs_logreg), 3)\n",
    "logreg_brier_ci_length = z_value * np.sqrt((logreg_brier * (1 - logreg_brier)) / y_test.shape[0])\n",
    "logreg_brier_ci_lower = round((logreg_brier - logreg_brier_ci_length), 3)\n",
    "logreg_brier_ci_upper = round((logreg_brier + logreg_brier_ci_length), 3)\n",
    "logreg_brier_str = str(logreg_brier) + ' (' + str(logreg_brier_ci_lower) + ' - ' + str(logreg_brier_ci_upper) + ')'\n",
    "\n",
    "logreg_results = [logreg_precision_str, logreg_recall_str, logreg_auprc_str, logreg_accuracy_str, logreg_auroc_str, logreg_brier_str]\n",
    "\n",
    "print(\"Precision: \", (logreg_precision_str))\n",
    "print(\"Recall: \", (logreg_recall_str))\n",
    "print('AUPRC: ', (logreg_auprc_str))\n",
    "print('Accuracy: ', (logreg_accuracy_str))\n",
    "print('AUROC: ', (logreg_auroc_str))\n",
    "print('Brier Score: ', (logreg_brier_str))"
   ]
  },
  {
   "cell_type": "code",
   "execution_count": null,
   "metadata": {
    "colab": {
     "base_uri": "https://localhost:8080/"
    },
    "executionInfo": {
     "elapsed": 27,
     "status": "ok",
     "timestamp": 1689269886530,
     "user": {
      "displayName": "Mert Karabacak",
      "userId": "14308977132914475412"
     },
     "user_tz": 240
    },
    "id": "qiuZD44hIQPj",
    "outputId": "6acd6cfc-ec80-44b5-d71b-9789ef0d4c62"
   },
   "outputs": [],
   "source": [
    "#Recalculate precision recall curve for plotting purposes.\n",
    "\n",
    "logreg_precision_curve, logreg_recall_curve, _ = precision_recall_curve(y_test, probs_logreg)"
   ]
  },
  {
   "cell_type": "markdown",
   "metadata": {
    "id": "fLvNgketIQPl"
   },
   "source": [
    "# ROC and PR Curves"
   ]
  },
  {
   "cell_type": "code",
   "execution_count": null,
   "metadata": {
    "colab": {
     "base_uri": "https://localhost:8080/",
     "height": 1000
    },
    "executionInfo": {
     "elapsed": 842,
     "status": "ok",
     "timestamp": 1689269887359,
     "user": {
      "displayName": "Mert Karabacak",
      "userId": "14308977132914475412"
     },
     "user_tz": 240
    },
    "id": "0mMqO-euIQPl",
    "outputId": "27480ff5-7ad6-40f6-dbae-6a81d73c9b1d"
   },
   "outputs": [],
   "source": [
    "#Plot ROC curve.\n",
    "\n",
    "f = pyplot.figure()\n",
    "f.set_figwidth(12)\n",
    "f.set_figheight(12)\n",
    "\n",
    "tabpfn_fpr, tabpfn_tpr, _ = roc_curve(y_test, probs_tabpfn)\n",
    "tabpfn_label = 'TabPFN AUROC: ' + tabpfn_auroc_str\n",
    "pyplot.plot(tabpfn_fpr, tabpfn_tpr, label = tabpfn_label, color = 'b', linewidth = 3.5, alpha = 0.75)\n",
    "\n",
    "tabnet_fpr, tabnet_tpr, _ = roc_curve(y_test, probs_tabnet)\n",
    "tabnet_label = 'TabNet AUROC: ' + tabnet_auroc_str\n",
    "pyplot.plot(tabnet_fpr, tabnet_tpr, label = tabnet_label, color = 'g', linewidth = 3.5, alpha = 0.75)\n",
    "\n",
    "xgb_fpr, xgb_tpr, _ = roc_curve(y_test, probs_xgb)\n",
    "xgb_label = 'XGBoost AUROC: ' + xgb_auroc_str\n",
    "pyplot.plot(xgb_fpr, xgb_tpr, label = xgb_label, color = 'r', linewidth = 3.5, alpha = 0.75)\n",
    "\n",
    "lgb_fpr, lgb_tpr, _ = roc_curve(y_test, probs_lgb)\n",
    "lgb_label = 'LightGBM AUROC: ' + lgb_auroc_str\n",
    "pyplot.plot(lgb_fpr, lgb_tpr, label = lgb_label, color='c', linewidth = 3.5, alpha = 0.75)\n",
    "\n",
    "rf_fpr, rf_tpr, _ = roc_curve(y_test, probs_rf)\n",
    "rf_label = 'Random Forest AUROC: ' + rf_auroc_str\n",
    "pyplot.plot(rf_fpr, rf_tpr, label = rf_label, color = 'm', linewidth = 3.5, alpha = 0.75)\n",
    "\n",
    "logreg_fpr, logreg_tpr, _ = roc_curve(y_test, probs_logreg)\n",
    "logreg_label = 'Logistic Regression AUROC: ' + logreg_auroc_str\n",
    "pyplot.plot(logreg_fpr, logreg_tpr, label = logreg_label, color = 'y', linewidth = 3.5, alpha = 0.75)\n",
    "\n",
    "pyplot.plot([0, 1], [0, 1], linestyle = '--', linewidth=2)\n",
    "\n",
    "pyplot.title('D', x = -0.075, y = 1.005, fontsize = 75, pad = 20)\n",
    "pyplot.xlabel('False Positive Rate', fontsize = 22, fontweight = 'heavy', labelpad = 16)\n",
    "pyplot.ylabel('True Positive Rate', fontsize = 22, fontweight = 'heavy', labelpad = 16)\n",
    "pyplot.tick_params(axis=\"y\",direction=\"out\", labelsize = 16)\n",
    "pyplot.tick_params(axis=\"x\",direction=\"out\", labelsize = 16)\n",
    "\n",
    "leg = pyplot.legend(loc = 'lower right', fontsize = 18)\n",
    "\n",
    "pyplot.savefig('/content/drive/MyDrive/NSQIP-Meningioma/reoperations_roc.png', dpi=300)\n",
    "pyplot.show()"
   ]
  },
  {
   "cell_type": "code",
   "execution_count": null,
   "metadata": {
    "colab": {
     "base_uri": "https://localhost:8080/",
     "height": 969
    },
    "executionInfo": {
     "elapsed": 538,
     "status": "ok",
     "timestamp": 1689269887779,
     "user": {
      "displayName": "Mert Karabacak",
      "userId": "14308977132914475412"
     },
     "user_tz": 240
    },
    "id": "GpotrYFBIQPl",
    "outputId": "f9d854ba-6c9f-4fdd-9e74-b87abe384c2b"
   },
   "outputs": [],
   "source": [
    "#Plot PR curve.\n",
    "\n",
    "f = pyplot.figure()\n",
    "f.set_figwidth(12)\n",
    "f.set_figheight(12)\n",
    "\n",
    "tabpfn_label = 'TabPFN AUPRC: ' + tabpfn_auprc_str\n",
    "tabnet_label = 'TabNet AUPRC: ' + tabnet_auprc_str\n",
    "xgb_label = 'XGBoost AUPRC: ' + xgb_auprc_str\n",
    "lgb_label = 'LightGBM AUPRC: ' + lgb_auprc_str\n",
    "rf_label = 'Random Forest AUPRC: ' + rf_auprc_str\n",
    "logreg_label = 'Logistic Regression AUPRC: ' + logreg_auprc_str\n",
    "\n",
    "pyplot.plot(tabpfn_recall_curve, tabpfn_precision_curve, label = tabpfn_label, color = 'b', linewidth = 3.5, alpha = 0.75)\n",
    "pyplot.plot(tabnet_recall_curve, tabnet_precision_curve, label = tabnet_label, color = 'g', linewidth = 3.5, alpha = 0.75)\n",
    "pyplot.plot(xgb_recall_curve, xgb_precision_curve, label = xgb_label, color = 'r', linewidth = 3.5, alpha = 0.75)\n",
    "pyplot.plot(lgb_recall_curve, lgb_precision_curve, label = lgb_label, color = 'c', linewidth = 3.5, alpha = 0.75)\n",
    "pyplot.plot(rf_recall_curve, rf_precision_curve, label = rf_label, color = 'm', linewidth = 3.5, alpha = 0.75)\n",
    "pyplot.plot(logreg_recall_curve, logreg_precision_curve, label = logreg_label, color = 'y', linewidth = 3.5, alpha = 0.75)\n",
    "\n",
    "pyplot.title('D', x = -0.075, y = 1.005, fontsize = 75, pad = 20)\n",
    "pyplot.xlabel('Recall', fontsize = 18, fontweight = 'heavy', labelpad = 16)\n",
    "pyplot.ylabel('Precision', fontsize = 22, fontweight = 'heavy', labelpad = 16)\n",
    "pyplot.tick_params(axis=\"y\",direction=\"out\", labelsize = 16)\n",
    "pyplot.tick_params(axis=\"x\",direction=\"out\", labelsize = 16)\n",
    "\n",
    "leg = pyplot.legend(loc = 'upper right', fontsize = 18)\n",
    "\n",
    "pyplot.savefig('/content/drive/MyDrive/NSQIP-Meningioma/reoperations_prc.png', dpi=300)\n",
    "pyplot.show()"
   ]
  },
  {
   "cell_type": "markdown",
   "metadata": {
    "id": "rOySRdcDIQPl"
   },
   "source": [
    "# Results Summary"
   ]
  },
  {
   "cell_type": "code",
   "execution_count": null,
   "metadata": {
    "colab": {
     "base_uri": "https://localhost:8080/",
     "height": 585
    },
    "executionInfo": {
     "elapsed": 178,
     "status": "ok",
     "timestamp": 1689269887779,
     "user": {
      "displayName": "Mert Karabacak",
      "userId": "14308977132914475412"
     },
     "user_tz": 240
    },
    "id": "kznujF4kIQPl",
    "outputId": "886bf34f-ff70-40fc-ffdd-6877e49757f7"
   },
   "outputs": [],
   "source": [
    "results = {'TabPFN':tabpfn_results, 'TabNet':tabnet_results, 'XGBoost':xgb_results, 'LightGBM':lgb_results, 'Random Forest':rf_results, 'Logistic Regression':logreg_results}\n",
    "\n",
    "results = pd.DataFrame(results, columns = ['TabPFN', 'TabNet', 'XGBoost', 'LightGBM', 'Random Forest', 'Logistic Regression'])\n",
    "results = results.T\n",
    "\n",
    "results.columns = ['Weighted Precision (95% CI)', 'Weighted Recall (95% CI)',  'Weighted AUPRC (95% CI)', 'Balanced Accuracy (95% CI)', 'AUROC (95% CI)', 'Brier Score']\n",
    "\n",
    "results.to_csv('/content/drive/MyDrive/NSQIP-Meningioma/reoperations_results.csv')\n",
    "\n",
    "results"
   ]
  },
  {
   "cell_type": "markdown",
   "metadata": {
    "id": "qYnu4PnCIQPm"
   },
   "source": [
    "# SHAP Plots"
   ]
  },
  {
   "cell_type": "code",
   "execution_count": null,
   "metadata": {
    "colab": {
     "base_uri": "https://localhost:8080/"
    },
    "executionInfo": {
     "elapsed": 173,
     "status": "ok",
     "timestamp": 1689269887779,
     "user": {
      "displayName": "Mert Karabacak",
      "userId": "14308977132914475412"
     },
     "user_tz": 240
    },
    "id": "BuvljQiYu-Xb",
    "outputId": "fbd676f2-7521-473e-941d-6d621aaa2dfe"
   },
   "outputs": [],
   "source": [
    "import textwrap\n",
    "def wrap_labels(ax, width, break_long_words=False):\n",
    "    labels = []\n",
    "    for label in ax.get_yticklabels():\n",
    "        text = label.get_text()\n",
    "        labels.append(textwrap.fill(text, width=width,\n",
    "                                    break_long_words=break_long_words))\n",
    "    ax.set_yticklabels(labels, rotation=0)"
   ]
  },
  {
   "cell_type": "code",
   "execution_count": null,
   "metadata": {
    "colab": {
     "base_uri": "https://localhost:8080/"
    },
    "executionInfo": {
     "elapsed": 16635005,
     "status": "ok",
     "timestamp": 1689286522616,
     "user": {
      "displayName": "Mert Karabacak",
      "userId": "14308977132914475412"
     },
     "user_tz": 240
    },
    "id": "GTKndsLJzH7h",
    "outputId": "86952bb4-e3af-4918-e2a9-fce20d8da457"
   },
   "outputs": [],
   "source": [
    "#Calculate SHAP values for TabPFN.\n",
    "\n",
    "tabpfn_explainer = shap.Explainer(tabpfn.predict, x_test)\n",
    "tabpfn_shap_values = tabpfn_explainer(x_test)"
   ]
  },
  {
   "cell_type": "code",
   "execution_count": null,
   "metadata": {
    "colab": {
     "base_uri": "https://localhost:8080/",
     "height": 1000
    },
    "executionInfo": {
     "elapsed": 1484,
     "status": "ok",
     "timestamp": 1689286524031,
     "user": {
      "displayName": "Mert Karabacak",
      "userId": "14308977132914475412"
     },
     "user_tz": 240
    },
    "id": "Lw5zXxxQzH7p",
    "outputId": "c22f88fa-bfc1-41a5-9ec5-b461a2f5a587"
   },
   "outputs": [],
   "source": [
    "#Plot SHAP bar plot for TabPFN.\n",
    "\n",
    "shap.plots.bar(tabpfn_shap_values, max_display = 15, show=False)\n",
    "\n",
    "fig = pyplot.gcf()\n",
    "ax = pyplot.gca()\n",
    "fig.set_figheight(12)\n",
    "fig.set_figwidth(5)\n",
    "\n",
    "pyplot.title('A', x = -0.5, y = 1, fontsize = 50, pad = 20)\n",
    "pyplot.xlabel(\"Mean |SHAP Value|\", fontsize =12, fontweight = 'heavy', labelpad = 8)\n",
    "pyplot.tick_params(axis=\"y\",direction=\"out\", labelsize = 12)\n",
    "pyplot.tick_params(axis=\"x\",direction=\"out\", labelsize = 12)\n",
    "\n",
    "wrap_labels(ax, 30)\n",
    "ax.figure\n",
    "\n",
    "pyplot.savefig('/content/drive/MyDrive/TQP-tlSCI/reoperations_shap_tabpfn.png', dpi=300, bbox_inches='tight')"
   ]
  },
  {
   "cell_type": "code",
   "execution_count": null,
   "metadata": {
    "colab": {
     "base_uri": "https://localhost:8080/"
    },
    "executionInfo": {
     "elapsed": 1230202,
     "status": "ok",
     "timestamp": 1689287754221,
     "user": {
      "displayName": "Mert Karabacak",
      "userId": "14308977132914475412"
     },
     "user_tz": 240
    },
    "id": "XotWpfehXbCw",
    "outputId": "4571a958-de28-4ea7-ff58-5559b2382631"
   },
   "outputs": [],
   "source": [
    "#Calculate SHAP values for TabNet.\n",
    "\n",
    "tabnet_explainer = shap.Explainer(tabnet.predict, x_test.values, feature_names=feature_names)\n",
    "tabnet_shap_values = tabnet_explainer(x_test.values)"
   ]
  },
  {
   "cell_type": "code",
   "execution_count": null,
   "metadata": {
    "colab": {
     "base_uri": "https://localhost:8080/",
     "height": 1000
    },
    "executionInfo": {
     "elapsed": 426,
     "status": "ok",
     "timestamp": 1689287754621,
     "user": {
      "displayName": "Mert Karabacak",
      "userId": "14308977132914475412"
     },
     "user_tz": 240
    },
    "id": "tzHasDCwXoxs",
    "outputId": "630c1899-7fce-45f7-c8fb-e6fbf64c0ae0"
   },
   "outputs": [],
   "source": [
    "#Plot SHAP bar plot for TabNet.\n",
    "\n",
    "shap.plots.bar(tabnet_shap_values, max_display = 15, show=False)\n",
    "\n",
    "fig = pyplot.gcf()\n",
    "ax = pyplot.gca()\n",
    "fig.set_figheight(12)\n",
    "fig.set_figwidth(5)\n",
    "\n",
    "pyplot.title('B', x = -0.5, y = 1, fontsize = 50, pad = 20)\n",
    "pyplot.xlabel(\"Mean |SHAP Value|\", fontsize =12, fontweight = 'heavy', labelpad = 8)\n",
    "pyplot.tick_params(axis=\"y\",direction=\"out\", labelsize = 12)\n",
    "pyplot.tick_params(axis=\"x\",direction=\"out\", labelsize = 12)\n",
    "\n",
    "wrap_labels(ax, 30)\n",
    "ax.figure\n",
    "\n",
    "pyplot.savefig('/content/drive/MyDrive/TQP-tlSCI/reoperations_shap_tabnet.png', dpi=300, bbox_inches='tight')"
   ]
  },
  {
   "cell_type": "code",
   "execution_count": null,
   "metadata": {
    "colab": {
     "background_save": true
    },
    "id": "C09esVZrIQPm",
    "outputId": "ed6ec6e7-0100-492c-9e55-9f6619cbb555"
   },
   "outputs": [],
   "source": [
    "#Calculate SHAP values for XGBoost.\n",
    "\n",
    "xgb_explainer = shap.Explainer(xgb.predict, x_test)\n",
    "xgb_shap_values = xgb_explainer(x_test)"
   ]
  },
  {
   "cell_type": "code",
   "execution_count": null,
   "metadata": {
    "colab": {
     "background_save": true
    },
    "id": "6O74ff97qW2H",
    "outputId": "3fc02c7f-a6b1-4359-d979-5880a2cc7c48"
   },
   "outputs": [],
   "source": [
    "#Plot SHAP bar plot for XGBoost.\n",
    "\n",
    "shap.plots.bar(xgb_shap_values, max_display = 15, show=False)\n",
    "\n",
    "fig = pyplot.gcf()\n",
    "ax = pyplot.gca()\n",
    "fig.set_figheight(12)\n",
    "fig.set_figwidth(5)\n",
    "\n",
    "pyplot.title('C', x = -0.5, y = 1, fontsize = 50, pad = 20)\n",
    "pyplot.xlabel(\"Mean |SHAP Value|\", fontsize =12, fontweight = 'heavy', labelpad = 8)\n",
    "pyplot.tick_params(axis=\"y\",direction=\"out\", labelsize = 12)\n",
    "pyplot.tick_params(axis=\"x\",direction=\"out\", labelsize = 12)\n",
    "\n",
    "wrap_labels(ax, 30)\n",
    "ax.figure\n",
    "\n",
    "pyplot.savefig('/content/drive/MyDrive/NSQIP-Meningioma/reoperations_shap_xgb.png', dpi=300, bbox_inches='tight')"
   ]
  },
  {
   "cell_type": "code",
   "execution_count": null,
   "metadata": {
    "colab": {
     "background_save": true
    },
    "id": "HBQmzC4-IQPm",
    "outputId": "785a9b26-e301-4243-8a97-c5857f74c557"
   },
   "outputs": [],
   "source": [
    "#Calculate SHAP values for LightGBM.\n",
    "\n",
    "lgb_explainer = shap.Explainer(lgb.predict, x_test)\n",
    "lgb_shap_values = lgb_explainer(x_test)"
   ]
  },
  {
   "cell_type": "code",
   "execution_count": null,
   "metadata": {
    "colab": {
     "background_save": true
    },
    "id": "4V-NEfx_xysV",
    "outputId": "0b0b8022-6923-4f0f-b63b-3ce0c4137060"
   },
   "outputs": [],
   "source": [
    "#Plot SHAP bar plot for LightGBM.\n",
    "\n",
    "shap.plots.bar(lgb_shap_values, max_display = 15, show=False)\n",
    "\n",
    "fig = pyplot.gcf()\n",
    "ax = pyplot.gca()\n",
    "fig.set_figheight(12)\n",
    "fig.set_figwidth(5)\n",
    "\n",
    "pyplot.title('D', x = -0.5, y = 1, fontsize = 50, pad = 20)\n",
    "pyplot.xlabel(\"Mean |SHAP Value|\", fontsize =12, fontweight = 'heavy', labelpad = 8)\n",
    "pyplot.tick_params(axis=\"y\",direction=\"out\", labelsize = 12)\n",
    "pyplot.tick_params(axis=\"x\",direction=\"out\", labelsize = 12)\n",
    "\n",
    "wrap_labels(ax, 30)\n",
    "ax.figure\n",
    "\n",
    "pyplot.savefig('/content/drive/MyDrive/NSQIP-Meningioma/reoperations_shap_lgb.png', dpi=300, bbox_inches='tight')"
   ]
  },
  {
   "cell_type": "code",
   "execution_count": null,
   "metadata": {
    "colab": {
     "background_save": true
    },
    "id": "Vj3B1IeWIQPm",
    "outputId": "3facc37c-4626-4485-a47b-faf2fe0ee2a7"
   },
   "outputs": [],
   "source": [
    "#Calculate SHAP values for Random Forest.\n",
    "\n",
    "rf_explainer = shap.Explainer(rf.predict, x_test)\n",
    "rf_shap_values = rf_explainer(x_test)"
   ]
  },
  {
   "cell_type": "code",
   "execution_count": null,
   "metadata": {
    "colab": {
     "background_save": true
    },
    "id": "x2P2or1bx25u",
    "outputId": "6f147609-df61-4713-af77-f5c9bce746bf"
   },
   "outputs": [],
   "source": [
    "#Plot SHAP bar plot for Random Forest.\n",
    "\n",
    "shap.plots.bar(rf_shap_values, max_display = 15, show=False)\n",
    "\n",
    "fig = pyplot.gcf()\n",
    "ax = pyplot.gca()\n",
    "fig.set_figheight(12)\n",
    "fig.set_figwidth(5)\n",
    "\n",
    "pyplot.title('D', x = -0.5, y = 1, fontsize = 50, pad = 20)\n",
    "pyplot.xlabel(\"Mean |SHAP Value|\", fontsize =12, fontweight = 'heavy', labelpad = 8)\n",
    "pyplot.tick_params(axis=\"y\",direction=\"out\", labelsize = 12)\n",
    "pyplot.tick_params(axis=\"x\",direction=\"out\", labelsize = 12)\n",
    "\n",
    "wrap_labels(ax, 30)\n",
    "ax.figure\n",
    "\n",
    "pyplot.savefig('/content/drive/MyDrive/NSQIP-Meningioma/reoperations_shap_rf.png', dpi=300, bbox_inches='tight')"
   ]
  },
  {
   "cell_type": "code",
   "execution_count": null,
   "metadata": {
    "colab": {
     "background_save": true
    },
    "id": "GSP5OhIFNzCL",
    "outputId": "31c86a44-5ee7-410a-fd0d-cee1e4b4b16c"
   },
   "outputs": [],
   "source": [
    "#Calculate SHAP values for Logistic Regression.\n",
    "\n",
    "logreg_explainer = shap.Explainer(logreg.predict, x_test)\n",
    "logreg_shap_values = logreg_explainer(x_test)"
   ]
  },
  {
   "cell_type": "code",
   "execution_count": null,
   "metadata": {
    "colab": {
     "background_save": true
    },
    "id": "bt0NhytjN3e7",
    "outputId": "96b85151-4f72-4fc7-aa7d-72487701bc37"
   },
   "outputs": [],
   "source": [
    "#Plot SHAP bar plot for Logistic Regression.\n",
    "\n",
    "shap.plots.bar(logreg_shap_values, max_display = 15, show=False)\n",
    "\n",
    "fig = pyplot.gcf()\n",
    "ax = pyplot.gca()\n",
    "fig.set_figheight(12)\n",
    "fig.set_figwidth(5)\n",
    "\n",
    "pyplot.title('E', x = -0.5, y = 1, fontsize = 50, pad = 20)\n",
    "pyplot.xlabel(\"Mean |SHAP Value|\", fontsize =12, fontweight = 'heavy', labelpad = 8)\n",
    "pyplot.tick_params(axis=\"y\",direction=\"out\", labelsize = 12)\n",
    "pyplot.tick_params(axis=\"x\",direction=\"out\", labelsize = 12)\n",
    "\n",
    "wrap_labels(ax, 30)\n",
    "ax.figure\n",
    "\n",
    "pyplot.savefig('/content/drive/MyDrive/NSQIP-Meningioma/reoperations_shap_logreg.png', dpi=300, bbox_inches='tight')"
   ]
  },
  {
   "cell_type": "markdown",
   "metadata": {
    "id": "cwYwpeSZz_-x"
   },
   "source": [
    "#Partial Dependency Plots"
   ]
  },
  {
   "cell_type": "code",
   "execution_count": null,
   "metadata": {
    "colab": {
     "background_save": true
    },
    "id": "cCezSsG3XK1c"
   },
   "outputs": [],
   "source": [
    "column_filters = {\n",
    "    'Age': (18, 90),\n",
    "    'Weight': (30, 250),\n",
    "    'Height': (100, 220),\n",
    "    'Preoperative Serum Sodium': (130, 150),\n",
    "    'Preoperative Serum BUN': (1, 100),\n",
    "    'Preoperative Serum Creatinine': (0, 5),\n",
    "    'Preoperative WBC Count': (0.5, 30),\n",
    "    'Preoperative Hematocrit': (30, 60),\n",
    "    'Preoperative Platelet Count': (50, 900),\n",
    "    'Preoperative INR': (0, 5),\n",
    "}\n",
    "\n",
    "for column, (min_val, max_val) in column_filters.items():\n",
    "    if column in x_test.columns:\n",
    "        x_test = x_test[(x_test[column] > min_val) & (x_test[column] < max_val)]"
   ]
  },
  {
   "cell_type": "code",
   "execution_count": null,
   "metadata": {
    "colab": {
     "background_save": true
    },
    "id": "jLWR5lmo01KM"
   },
   "outputs": [],
   "source": [
    "pyplot.rcParams[\"figure.figsize\"] = (15, 15)\n",
    "pyplot.rcParams[\"figure.dpi\"] = 300\n",
    "pyplot.rcParams['axes.labelweight'] = 'bold'\n",
    "pyplot.rcParams['axes.labelsize'] = 12\n",
    "pyplot.rcParams['axes.labelpad'] = 6\n",
    "pyplot.rcParams['font.weight'] = 'normal'\n",
    "pyplot.rcParams['lines.linewidth'] = 2.5\n",
    "pyplot.rcParams['xtick.labelsize'] = 8\n",
    "pyplot.rcParams['ytick.labelsize'] = 8"
   ]
  },
  {
   "cell_type": "code",
   "execution_count": null,
   "metadata": {
    "colab": {
     "background_save": true
    },
    "id": "4mCUeepoYdNJ"
   },
   "outputs": [],
   "source": [
    "categorical_features = ['Sex', 'Race', 'Hispanic Ethnicity', 'Transfer Status', 'Diabetes Mellitus Requiring Therapy', 'Current Smoker Status', 'Dyspnea', 'Ventilator Dependency', 'Functional Status', 'History of Severe COPD', 'CHF within 30 Days Prior to Surgery', 'Hypertension Requiring Medication', 'Acute Renal Failure', 'Currently Requiring or on Dialysis', 'Disseminated Cancer', 'Open Wound', 'Steroid or Immunosuppressant for a Chronic Condition', 'Malnourishment', 'Bleeding Disorder', 'RBC Transfusion within 72 Hours Prior to Surgery', 'ASA Classification', 'Localization']"
   ]
  },
  {
   "cell_type": "code",
   "execution_count": null,
   "metadata": {
    "colab": {
     "background_save": true
    },
    "id": "aq_m3WU_5NKq",
    "outputId": "a5338614-4234-4e18-e0f7-20e0bf939a33"
   },
   "outputs": [],
   "source": [
    "#Calculate the mean absolute SHAP values for each feature.\n",
    "rf_mean_abs_shap_values = np.mean(np.abs(rf_shap_values.values), axis=0)\n",
    "\n",
    "#Create a DataFrame to map feature names to their mean absolute SHAP values.\n",
    "rf_shap_summary = pd.DataFrame(list(zip(feature_names, rf_mean_abs_shap_values)), columns=['Feature', 'Mean SHAP'])\n",
    "\n",
    "#Sort the DataFrame by 'Mean SHAP' in descending order.\n",
    "rf_shap_summary_sorted = rf_shap_summary.sort_values('Mean SHAP', ascending=False)\n",
    "\n",
    "#Get the names of the features.\n",
    "rf_features = rf_shap_summary_sorted['Feature'].tolist()\n",
    "rf_features = rf_features[:9]\n",
    "\n",
    "rf_categorical_features = [item for item in rf_features if item in categorical_features]\n",
    "\n",
    "PartialDependenceDisplay.from_estimator(rf, x_test, rf_features, categorical_features = rf_categorical_features)\n",
    "pyplot.savefig('/content/drive/MyDrive/NSQIP-Meningioma/reoperations_pdp_rf.png', dpi=300, bbox_inches='tight')\n",
    "pyplot.show()"
   ]
  }
 ],
 "metadata": {
  "colab": {
   "machine_shape": "hm",
   "provenance": [
    {
     "file_id": "1UkwyI_otLyEJYK2UPCG-dIm16CtjO9Cv",
     "timestamp": 1688928880708
    },
    {
     "file_id": "1nA8SDhxmrQ43EdKhYLMXjIg3JxM1T40P",
     "timestamp": 1681409934424
    },
    {
     "file_id": "1DnUMvX5MKszPU1lxDOIF7c4d3Qh04B92",
     "timestamp": 1681409740038
    },
    {
     "file_id": "1ehzQDERWA7oATVlIze0f5fvBuuSk3Il-",
     "timestamp": 1681409643627
    },
    {
     "file_id": "10kjTiT6ZbSYDMQVY6jE58AJ9bNIvu_Z4",
     "timestamp": 1680804894233
    },
    {
     "file_id": "1SyxRVArbYdS2kIxHOoZLuxtWYNsZL3ei",
     "timestamp": 1675315289522
    },
    {
     "file_id": "1rquc9s2K5gcWtyx-P9n0ie3ooY4kzveD",
     "timestamp": 1673820526724
    },
    {
     "file_id": "1sd9nBAoznz2E976naQ2pJvARRLH-vRK7",
     "timestamp": 1673714326538
    },
    {
     "file_id": "1tydPpyRVpKMFnUtRbvvIdQTTUtRQ1SJK",
     "timestamp": 1672252113955
    },
    {
     "file_id": "1FJ2Tp28HBJo_krRjesYEkutbjOcsodmu",
     "timestamp": 1672251686516
    },
    {
     "file_id": "1vmOc15wf8HLrh9xcXe9IRvqZIrBNUFp_",
     "timestamp": 1671647832509
    },
    {
     "file_id": "1jvG_2brh3p2BhjDqh6LIyEOlVCFKYSX6",
     "timestamp": 1671034103968
    },
    {
     "file_id": "1YKiMGVsPQlDRLgB2d3Svjjsp96BkJxlX",
     "timestamp": 1670597416903
    },
    {
     "file_id": "1gG7ScMqQA2JnmntazVsJaQStNW3qHl9R",
     "timestamp": 1670198888608
    },
    {
     "file_id": "1V4GD1xQ2LBQhBny_OS3iBlGyn9mh7oWM",
     "timestamp": 1669993880849
    },
    {
     "file_id": "1euhY_qXOTy9qT_vn0Q6Kb2eEUOCHom8m",
     "timestamp": 1669310009337
    },
    {
     "file_id": "1ksEkZ_gSIaosRd56LkYx54z5oGNBgq2C",
     "timestamp": 1668779215067
    },
    {
     "file_id": "1o0f_u5loubhXZTvFpGUCA_m2gpTKQ6EL",
     "timestamp": 1668619772114
    }
   ],
   "toc_visible": true
  },
  "gpuClass": "standard",
  "kernelspec": {
   "display_name": "Python 3 (ipykernel)",
   "language": "python",
   "name": "python3"
  },
  "language_info": {
   "codemirror_mode": {
    "name": "ipython",
    "version": 3
   },
   "file_extension": ".py",
   "mimetype": "text/x-python",
   "name": "python",
   "nbconvert_exporter": "python",
   "pygments_lexer": "ipython3",
   "version": "3.9.6"
  }
 },
 "nbformat": 4,
 "nbformat_minor": 4
}
